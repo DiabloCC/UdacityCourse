{
 "cells": [
  {
   "cell_type": "code",
   "execution_count": 14,
   "metadata": {},
   "outputs": [],
   "source": [
    "# In this exercise we'll examine a learner which has high variance, and tries to learn\n",
    "# nonexistant patterns in the data.\n",
    "# Use the learning curve function from sklearn.learning_curve to plot learning curves\n",
    "# of both training and testing error.\n",
    "# CODE YOU HAVE TO TYPE IN IS IN LINE 35\n",
    "\n",
    "from sklearn.tree import DecisionTreeRegressor\n",
    "import matplotlib.pyplot as plt\n",
    "# PLEASE NOTE:\n",
    "# In sklearn 0.18, the import would be from sklearn.model_selection import learning_curve\n",
    "# from sklearn.learning_curve import learning_curve # sklearn version 0.17\n",
    "from sklearn.model_selection import learning_curve\n",
    "# from sklearn.cross_validation import KFold\n",
    "from sklearn.model_selection import KFold\n",
    "from sklearn.metrics import explained_variance_score, make_scorer\n",
    "import numpy as np\n",
    "%matplotlib inline"
   ]
  },
  {
   "cell_type": "code",
   "execution_count": 5,
   "metadata": {},
   "outputs": [
    {
     "name": "stdout",
     "output_type": "stream",
     "text": [
      "[-4.50096589 -3.19035764 -5.68932048 -2.69117392 -3.35012235 -4.12702983\n",
      "  1.55627449  0.4217829   2.78248441  1.82682243 -5.79883579  1.69300201\n",
      "  5.07570284  5.2151724   4.37975997  3.25822491 -2.97763473  2.37108029\n",
      "  5.57335423  3.61746943]\n"
     ]
    }
   ],
   "source": [
    "a=np.random.normal(scale=5,size=2*10)\n",
    "print a\n"
   ]
  },
  {
   "cell_type": "code",
   "execution_count": 11,
   "metadata": {},
   "outputs": [
    {
     "name": "stdout",
     "output_type": "stream",
     "text": [
      "[[-4.5  -3.19 -5.69 -2.69]\n",
      " [-3.35 -4.13  1.56  0.42]\n",
      " [ 2.78  1.83 -5.8   1.69]\n",
      " [ 5.08  5.22  4.38  3.26]\n",
      " [-2.98  2.37  5.57  3.62]]\n"
     ]
    }
   ],
   "source": [
    "print np.round(np.reshape(a, (-1,4)),2)"
   ]
  },
  {
   "cell_type": "code",
   "execution_count": 21,
   "metadata": {},
   "outputs": [
    {
     "name": "stdout",
     "output_type": "stream",
     "text": [
      "[ 0.5         0.51020408  0.52040816  0.53061224  0.54081633  0.55102041\n",
      "  0.56122449  0.57142857  0.58163265  0.59183673  0.60204082  0.6122449\n",
      "  0.62244898  0.63265306  0.64285714  0.65306122  0.66326531  0.67346939\n",
      "  0.68367347  0.69387755  0.70408163  0.71428571  0.7244898   0.73469388\n",
      "  0.74489796  0.75510204  0.76530612  0.7755102   0.78571429  0.79591837\n",
      "  0.80612245  0.81632653  0.82653061  0.83673469  0.84693878  0.85714286\n",
      "  0.86734694  0.87755102  0.8877551   0.89795918  0.90816327  0.91836735\n",
      "  0.92857143  0.93877551  0.94897959  0.95918367  0.96938776  0.97959184\n",
      "  0.98979592  1.        ]\n"
     ]
    }
   ],
   "source": [
    "b= np.linspace(0.5,1,50)\n",
    "print b"
   ]
  },
  {
   "cell_type": "code",
   "execution_count": 23,
   "metadata": {},
   "outputs": [
    {
     "name": "stdout",
     "output_type": "stream",
     "text": [
      "Regressor score: 1.0000\n"
     ]
    },
    {
     "data": {
      "image/png": "[encoded data removed]",
      "text/plain": [
       "<matplotlib.figure.Figure at 0xd4962d0>"
      ]
     },
     "metadata": {},
     "output_type": "display_data"
    }
   ],
   "source": [
    "# Set the learning curve parameters; you'll need this for learning_curves\n",
    "size = 1000\n",
    "cv = KFold(size,shuffle=True)\n",
    "score = make_scorer(explained_variance_score)\n",
    "\n",
    "# Create a series of data that forces a learner to have high variance\n",
    "X = np.round(np.reshape(np.random.normal(scale=5,size=2*size),(-1,2)),2)\n",
    "y = np.array([[np.sin(x[0]+np.sin(x[1]))] for x in X])\n",
    "\n",
    "def plot_curve():\n",
    "    # Defining our regression algorithm\n",
    "    reg = DecisionTreeRegressor()\n",
    "    # Fit our model using X and y\n",
    "    reg.fit(X,y)\n",
    "    print \"Regressor score: {:.4f}\".format(reg.score(X,y))\n",
    "    \n",
    "    # TODO: Use learning_curve imported above to create learning curves for both the\n",
    "    #       training data and testing data. You'll need reg, X, y, cv and score from above.\n",
    "    \n",
    "    train_sizes, train_scores, test_scores = learning_curve(reg,\n",
    "                                                            X, y, \n",
    "                                                            cv = cv,\n",
    "                                                           train_sizes = np.linspace(0.5,1,5),\n",
    "                                                           scoring = score)\n",
    "    \n",
    "    # Taking the mean of the test and training scores\n",
    "    train_scores_mean = np.mean(train_scores,axis=1)\n",
    "    test_scores_mean = np.mean(test_scores,axis=1)\n",
    "    \n",
    "    # Plotting the training curves and the testing curves using train_scores_mean and test_scores_mean \n",
    "    plt.plot(train_sizes ,train_scores_mean,'-o',color='b',label=\"train_scores_mean\")\n",
    "    plt.plot(train_sizes,test_scores_mean ,'-o',color='r',label=\"test_scores_mean\")\n",
    "    \n",
    "    # Plot aesthetics\n",
    "    plt.ylim(-0.1, 1.1)\n",
    "    plt.ylabel(\"Curve Score\")\n",
    "    plt.xlabel(\"Training Points\")\n",
    "    plt.legend(bbox_to_anchor=(1.1, 1.1))\n",
    "    plt.show()\n",
    "    \n",
    "plot_curve()"
   ]
  }
 ],
 "metadata": {
  "kernelspec": {
   "display_name": "Python 2",
   "language": "python",
   "name": "python2"
  },
  "language_info": {
   "codemirror_mode": {
    "name": "ipython",
    "version": 2
   },
   "file_extension": ".py",
   "mimetype": "text/x-python",
   "name": "python",
   "nbconvert_exporter": "python",
   "pygments_lexer": "ipython2",
   "version": "2.7.13"
  }
 },
 "nbformat": 4,
 "nbformat_minor": 2
}
