{
 "cells": [
  {
   "cell_type": "markdown",
   "metadata": {},
   "source": [
    "# 泰坦尼克号数据集调查"
   ]
  },
  {
   "cell_type": "markdown",
   "metadata": {},
   "source": [
    "## 1 查看数据集结构"
   ]
  },
  {
   "cell_type": "code",
   "execution_count": 2,
   "metadata": {},
   "outputs": [
    {
     "data": {
      "text/html": [
       "<div>\n",
       "<style scoped>\n",
       "    .dataframe tbody tr th:only-of-type {\n",
       "        vertical-align: middle;\n",
       "    }\n",
       "\n",
       "    .dataframe tbody tr th {\n",
       "        vertical-align: top;\n",
       "    }\n",
       "\n",
       "    .dataframe thead th {\n",
       "        text-align: right;\n",
       "    }\n",
       "</style>\n",
       "<table border=\"1\" class=\"dataframe\">\n",
       "  <thead>\n",
       "    <tr style=\"text-align: right;\">\n",
       "      <th></th>\n",
       "      <th>PassengerId</th>\n",
       "      <th>Survived</th>\n",
       "      <th>Pclass</th>\n",
       "      <th>Name</th>\n",
       "      <th>Sex</th>\n",
       "      <th>Age</th>\n",
       "      <th>SibSp</th>\n",
       "      <th>Parch</th>\n",
       "      <th>Ticket</th>\n",
       "      <th>Fare</th>\n",
       "      <th>Cabin</th>\n",
       "      <th>Embarked</th>\n",
       "    </tr>\n",
       "  </thead>\n",
       "  <tbody>\n",
       "    <tr>\n",
       "      <th>0</th>\n",
       "      <td>1</td>\n",
       "      <td>0</td>\n",
       "      <td>3</td>\n",
       "      <td>Braund, Mr. Owen Harris</td>\n",
       "      <td>male</td>\n",
       "      <td>22.0</td>\n",
       "      <td>1</td>\n",
       "      <td>0</td>\n",
       "      <td>A/5 21171</td>\n",
       "      <td>7.2500</td>\n",
       "      <td>NaN</td>\n",
       "      <td>S</td>\n",
       "    </tr>\n",
       "    <tr>\n",
       "      <th>1</th>\n",
       "      <td>2</td>\n",
       "      <td>1</td>\n",
       "      <td>1</td>\n",
       "      <td>Cumings, Mrs. John Bradley (Florence Briggs Th...</td>\n",
       "      <td>female</td>\n",
       "      <td>38.0</td>\n",
       "      <td>1</td>\n",
       "      <td>0</td>\n",
       "      <td>PC 17599</td>\n",
       "      <td>71.2833</td>\n",
       "      <td>C85</td>\n",
       "      <td>C</td>\n",
       "    </tr>\n",
       "    <tr>\n",
       "      <th>2</th>\n",
       "      <td>3</td>\n",
       "      <td>1</td>\n",
       "      <td>3</td>\n",
       "      <td>Heikkinen, Miss. Laina</td>\n",
       "      <td>female</td>\n",
       "      <td>26.0</td>\n",
       "      <td>0</td>\n",
       "      <td>0</td>\n",
       "      <td>STON/O2. 3101282</td>\n",
       "      <td>7.9250</td>\n",
       "      <td>NaN</td>\n",
       "      <td>S</td>\n",
       "    </tr>\n",
       "    <tr>\n",
       "      <th>3</th>\n",
       "      <td>4</td>\n",
       "      <td>1</td>\n",
       "      <td>1</td>\n",
       "      <td>Futrelle, Mrs. Jacques Heath (Lily May Peel)</td>\n",
       "      <td>female</td>\n",
       "      <td>35.0</td>\n",
       "      <td>1</td>\n",
       "      <td>0</td>\n",
       "      <td>113803</td>\n",
       "      <td>53.1000</td>\n",
       "      <td>C123</td>\n",
       "      <td>S</td>\n",
       "    </tr>\n",
       "    <tr>\n",
       "      <th>4</th>\n",
       "      <td>5</td>\n",
       "      <td>0</td>\n",
       "      <td>3</td>\n",
       "      <td>Allen, Mr. William Henry</td>\n",
       "      <td>male</td>\n",
       "      <td>35.0</td>\n",
       "      <td>0</td>\n",
       "      <td>0</td>\n",
       "      <td>373450</td>\n",
       "      <td>8.0500</td>\n",
       "      <td>NaN</td>\n",
       "      <td>S</td>\n",
       "    </tr>\n",
       "  </tbody>\n",
       "</table>\n",
       "</div>"
      ],
      "text/plain": [
       "   PassengerId  Survived  Pclass  \\\n",
       "0            1         0       3   \n",
       "1            2         1       1   \n",
       "2            3         1       3   \n",
       "3            4         1       1   \n",
       "4            5         0       3   \n",
       "\n",
       "                                                Name     Sex   Age  SibSp  \\\n",
       "0                            Braund, Mr. Owen Harris    male  22.0      1   \n",
       "1  Cumings, Mrs. John Bradley (Florence Briggs Th...  female  38.0      1   \n",
       "2                             Heikkinen, Miss. Laina  female  26.0      0   \n",
       "3       Futrelle, Mrs. Jacques Heath (Lily May Peel)  female  35.0      1   \n",
       "4                           Allen, Mr. William Henry    male  35.0      0   \n",
       "\n",
       "   Parch            Ticket     Fare Cabin Embarked  \n",
       "0      0         A/5 21171   7.2500   NaN        S  \n",
       "1      0          PC 17599  71.2833   C85        C  \n",
       "2      0  STON/O2. 3101282   7.9250   NaN        S  \n",
       "3      0            113803  53.1000  C123        S  \n",
       "4      0            373450   8.0500   NaN        S  "
      ]
     },
     "execution_count": 2,
     "metadata": {},
     "output_type": "execute_result"
    }
   ],
   "source": [
    "import pandas as pd\n",
    "import matplotlib.pyplot as plt\n",
    "import seaborn as sns\n",
    "%matplotlib inline\n",
    "\n",
    "file_path = './titanic-data.csv'\n",
    "original_df = pd.read_csv(file_path)\n",
    "original_df.head()"
   ]
  },
  {
   "cell_type": "markdown",
   "metadata": {},
   "source": [
    "#### [Kaggle网站](https://www.kaggle.com/c/titanic/data)上的数据集结构说明：\n",
    "\n",
    "**Data Dictionary**\n",
    "\n",
    "|Variable|Definition|Key|\n",
    "|:-|:-|:-|\n",
    "|survival|Survival|0 = No, 1 = Yes|\n",
    "|pclass|Ticket class|1 = 1st, 2 = 2nd, 3 = 3rd|\n",
    "|sex|Sex||\t\n",
    "|Age|Age in years||\t\n",
    "|sibsp|# of siblings / spouses aboard the Titanic||\n",
    "|parch|# of parents / children aboard the Titanic||\n",
    "|ticket|Ticket number||\t\n",
    "|fare|Passenger fare||\t\n",
    "|cabin|Cabin number||\n",
    "|embarked|Port of Embarkation|C = Cherbourg, Q = Queenstown, S = Southampton|\n",
    "\n",
    "\n",
    "**Variable Notes**\n",
    "\n",
    "**pclass**: A proxy for socio-economic status (SES)\n",
    "<br>1st = Upper\n",
    "<br>2nd = Middle\n",
    "<br>3rd = Lower\n",
    "\n",
    "**age**: Age is fractional if less than 1. If the age is estimated, is it in the form of xx.5\n",
    "\n",
    "**sibsp**: The dataset defines family relations in this way...\n",
    "<br>Sibling = brother, sister, stepbrother, stepsister\n",
    "<br>Spouse = husband, wife (mistresses and fiancés were ignored)\n",
    "\n",
    "**parch**: The dataset defines family relations in this way...\n",
    "<br>Parent = mother, father\n",
    "<br>Child = daughter, son, stepdaughter, stepson\n",
    "<br>Some children travelled only with a nanny, therefore parch=0 for them.\n"
   ]
  },
  {
   "cell_type": "code",
   "execution_count": 3,
   "metadata": {},
   "outputs": [
    {
     "name": "stdout",
     "output_type": "stream",
     "text": [
      "891\n"
     ]
    }
   ],
   "source": [
    "# 数据行数\n",
    "print len(original_df)"
   ]
  },
  {
   "cell_type": "markdown",
   "metadata": {},
   "source": [
    "## 2 定义调查问题 \n",
    "### 2.1 有哪些因素会让船上的人生还率更高？\n",
    "* 舱位等级（Pclass）\n",
    "* 年龄\n",
    "* 性别\n",
    "* 有亲属同船的\n",
    "* 登船港口\n",
    "\n",
    "### 2.2 有哪些因素与社会地位/舱位（Pclass）相关?\n",
    "* 年龄\n",
    "* 性别\n",
    "* 有亲属同船\n",
    "* 登船港口"
   ]
  },
  {
   "cell_type": "markdown",
   "metadata": {},
   "source": [
    "## 3 数据加工（缺失数据处理）\n",
    "### 3.1 查看各列缺失值数量"
   ]
  },
  {
   "cell_type": "code",
   "execution_count": 4,
   "metadata": {},
   "outputs": [
    {
     "name": "stdout",
     "output_type": "stream",
     "text": [
      "          列名    缺失值数量\n",
      "==============================\n",
      "     PassengerId    0\n",
      "        Survived    0\n",
      "          Pclass    0\n",
      "            Name    0\n",
      "             Sex    0\n",
      "             Age    177\n",
      "           SibSp    0\n",
      "           Parch    0\n",
      "          Ticket    0\n",
      "            Fare    0\n",
      "           Cabin    687\n",
      "        Embarked    2\n"
     ]
    }
   ],
   "source": [
    "print '%16s    %s' % ('列名', '缺失值数量')\n",
    "print '='*30\n",
    "for col in original_df:\n",
    "    print '%16s    %d' % (col,sum(original_df[col].isna()))\n"
   ]
  },
  {
   "cell_type": "markdown",
   "metadata": {},
   "source": [
    "从初步调查看：\n",
    "- 缺失值最多的是舱号（Cabin），由于调查问题中不涉及该列, 可不做处理\n",
    "- 年龄（Age）缺失值较多, 而港口（Embarked）缺失值较少，可以查看缺港口的是否同时缺年龄"
   ]
  },
  {
   "cell_type": "code",
   "execution_count": 5,
   "metadata": {},
   "outputs": [
    {
     "name": "stdout",
     "output_type": "stream",
     "text": [
      "0\n"
     ]
    }
   ],
   "source": [
    "# 查看港口和年龄同时缺失的记录数\n",
    "print sum(original_df['Embarked'].isna() & original_df['Age'].isna())"
   ]
  },
  {
   "cell_type": "markdown",
   "metadata": {},
   "source": [
    "### 3.2 处理缺失数据"
   ]
  },
  {
   "cell_type": "code",
   "execution_count": 6,
   "metadata": {},
   "outputs": [
    {
     "name": "stdout",
     "output_type": "stream",
     "text": [
      "714\n",
      "889\n"
     ]
    }
   ],
   "source": [
    "valid_age_df = original_df.loc[original_df['Age'].notna()]\n",
    "valid_harbour_df = original_df.loc[original_df['Embarked'].notna()]\n",
    "# 验证记录数\n",
    "print len(valid_age_df)\n",
    "print len(valid_harbour_df)"
   ]
  },
  {
   "cell_type": "markdown",
   "metadata": {},
   "source": [
    "## 4 调查数据\n",
    "### 4.1 描述数据"
   ]
  },
  {
   "cell_type": "code",
   "execution_count": 7,
   "metadata": {},
   "outputs": [
    {
     "name": "stdout",
     "output_type": "stream",
     "text": [
      "count    891.000000\n",
      "mean       0.383838\n",
      "std        0.486592\n",
      "min        0.000000\n",
      "25%        0.000000\n",
      "50%        0.000000\n",
      "75%        1.000000\n",
      "max        1.000000\n",
      "Name: Survived, dtype: float64 \n",
      "\n",
      "count    891.000000\n",
      "mean       2.308642\n",
      "std        0.836071\n",
      "min        1.000000\n",
      "25%        2.000000\n",
      "50%        3.000000\n",
      "75%        3.000000\n",
      "max        3.000000\n",
      "Name: Pclass, dtype: float64 \n",
      "\n",
      "count    714.000000\n",
      "mean      29.699118\n",
      "std       14.526497\n",
      "min        0.420000\n",
      "25%       20.125000\n",
      "50%       28.000000\n",
      "75%       38.000000\n",
      "max       80.000000\n",
      "Name: Age, dtype: float64 \n",
      "\n",
      "count      891\n",
      "unique       2\n",
      "top       male\n",
      "freq       577\n",
      "Name: Sex, dtype: object \n",
      "\n",
      "count    891.000000\n",
      "mean       0.523008\n",
      "std        1.102743\n",
      "min        0.000000\n",
      "25%        0.000000\n",
      "50%        0.000000\n",
      "75%        1.000000\n",
      "max        8.000000\n",
      "Name: SibSp, dtype: float64 \n",
      "\n",
      "count    891.000000\n",
      "mean       0.381594\n",
      "std        0.806057\n",
      "min        0.000000\n",
      "25%        0.000000\n",
      "50%        0.000000\n",
      "75%        0.000000\n",
      "max        6.000000\n",
      "Name: Parch, dtype: float64 \n",
      "\n",
      "count    891.000000\n",
      "mean      32.204208\n",
      "std       49.693429\n",
      "min        0.000000\n",
      "25%        7.910400\n",
      "50%       14.454200\n",
      "75%       31.000000\n",
      "max      512.329200\n",
      "Name: Fare, dtype: float64 \n",
      "\n",
      "count     889\n",
      "unique      3\n",
      "top         S\n",
      "freq      644\n",
      "Name: Embarked, dtype: object \n",
      "\n"
     ]
    }
   ],
   "source": [
    "if True:\n",
    "    print original_df['Survived'].describe(),'\\n'\n",
    "\n",
    "if True:\n",
    "    print original_df['Pclass'].describe(),'\\n'\n",
    "\n",
    "if True:\n",
    "    print valid_age_df['Age'].describe(),'\\n'\n",
    "    \n",
    "if True:\n",
    "    print original_df['Sex'].describe(),'\\n'\n",
    "    \n",
    "if True:\n",
    "    print original_df['SibSp'].describe(),'\\n'\n",
    "    \n",
    "if True:\n",
    "    print original_df['Parch'].describe(),'\\n'\n",
    "    \n",
    "if True:\n",
    "    print original_df['Fare'].describe(),'\\n'\n",
    "    \n",
    "if True:\n",
    "    print valid_harbour_df['Embarked'].describe(),'\\n'"
   ]
  },
  {
   "cell_type": "markdown",
   "metadata": {
    "collapsed": true
   },
   "source": [
    "### 4.2 调查问题1：有哪些因素会让船上的人生还率更高？\n",
    "#### 4.2.1 舱位等级（Pclass）"
   ]
  },
  {
   "cell_type": "code",
   "execution_count": 8,
   "metadata": {},
   "outputs": [
    {
     "data": {
      "text/plain": [
       "count    891.000000\n",
       "mean       0.383838\n",
       "std        0.486592\n",
       "min        0.000000\n",
       "25%        0.000000\n",
       "50%        0.000000\n",
       "75%        1.000000\n",
       "max        1.000000\n",
       "Name: Survived, dtype: float64"
      ]
     },
     "execution_count": 8,
     "metadata": {},
     "output_type": "execute_result"
    }
   ],
   "source": [
    "# 总体生存率情况\n",
    "original_df['Survived'].describe()"
   ]
  },
  {
   "cell_type": "code",
   "execution_count": 9,
   "metadata": {},
   "outputs": [
    {
     "data": {
      "text/html": [
       "<div>\n",
       "<style scoped>\n",
       "    .dataframe tbody tr th:only-of-type {\n",
       "        vertical-align: middle;\n",
       "    }\n",
       "\n",
       "    .dataframe tbody tr th {\n",
       "        vertical-align: top;\n",
       "    }\n",
       "\n",
       "    .dataframe thead th {\n",
       "        text-align: right;\n",
       "    }\n",
       "</style>\n",
       "<table border=\"1\" class=\"dataframe\">\n",
       "  <thead>\n",
       "    <tr style=\"text-align: right;\">\n",
       "      <th></th>\n",
       "      <th>count</th>\n",
       "      <th>mean</th>\n",
       "      <th>std</th>\n",
       "      <th>min</th>\n",
       "      <th>25%</th>\n",
       "      <th>50%</th>\n",
       "      <th>75%</th>\n",
       "      <th>max</th>\n",
       "    </tr>\n",
       "    <tr>\n",
       "      <th>Pclass</th>\n",
       "      <th></th>\n",
       "      <th></th>\n",
       "      <th></th>\n",
       "      <th></th>\n",
       "      <th></th>\n",
       "      <th></th>\n",
       "      <th></th>\n",
       "      <th></th>\n",
       "    </tr>\n",
       "  </thead>\n",
       "  <tbody>\n",
       "    <tr>\n",
       "      <th>1</th>\n",
       "      <td>216.0</td>\n",
       "      <td>0.629630</td>\n",
       "      <td>0.484026</td>\n",
       "      <td>0.0</td>\n",
       "      <td>0.0</td>\n",
       "      <td>1.0</td>\n",
       "      <td>1.0</td>\n",
       "      <td>1.0</td>\n",
       "    </tr>\n",
       "    <tr>\n",
       "      <th>2</th>\n",
       "      <td>184.0</td>\n",
       "      <td>0.472826</td>\n",
       "      <td>0.500623</td>\n",
       "      <td>0.0</td>\n",
       "      <td>0.0</td>\n",
       "      <td>0.0</td>\n",
       "      <td>1.0</td>\n",
       "      <td>1.0</td>\n",
       "    </tr>\n",
       "    <tr>\n",
       "      <th>3</th>\n",
       "      <td>491.0</td>\n",
       "      <td>0.242363</td>\n",
       "      <td>0.428949</td>\n",
       "      <td>0.0</td>\n",
       "      <td>0.0</td>\n",
       "      <td>0.0</td>\n",
       "      <td>0.0</td>\n",
       "      <td>1.0</td>\n",
       "    </tr>\n",
       "  </tbody>\n",
       "</table>\n",
       "</div>"
      ],
      "text/plain": [
       "        count      mean       std  min  25%  50%  75%  max\n",
       "Pclass                                                    \n",
       "1       216.0  0.629630  0.484026  0.0  0.0  1.0  1.0  1.0\n",
       "2       184.0  0.472826  0.500623  0.0  0.0  0.0  1.0  1.0\n",
       "3       491.0  0.242363  0.428949  0.0  0.0  0.0  0.0  1.0"
      ]
     },
     "execution_count": 9,
     "metadata": {},
     "output_type": "execute_result"
    }
   ],
   "source": [
    "# 不同舱位等级成员的生存率情况\n",
    "original_df.groupby('Pclass')['Survived'].describe()"
   ]
  },
  {
   "cell_type": "code",
   "execution_count": 11,
   "metadata": {},
   "outputs": [
    {
     "data": {
      "image/png": "[encoded data removed]",
      "text/plain": [
       "<matplotlib.figure.Figure at 0xe041fd0>"
      ]
     },
     "metadata": {},
     "output_type": "display_data"
    }
   ],
   "source": [
    "# 不同舱位等级生存率比较\n",
    "survived_group = original_df.groupby('Pclass')['Survived']\n",
    "pclass_mean = survived_group.mean()\n",
    "plt.bar(pclass_mean.index, pclass_mean.values*100, tick_label=pclass_mean.index)\n",
    "plt.xlabel('Ticket class')\n",
    "plt.ylabel('Survival(%)')\n",
    "plt.title('Fig.1 Ticket class - Survival Relation')\n",
    "plt.show()"
   ]
  },
  {
   "cell_type": "code",
   "execution_count": 20,
   "metadata": {},
   "outputs": [
    {
     "name": "stdout",
     "output_type": "stream",
     "text": [
      "观察生存人数与预期生存人数比较\n",
      "H0: 观察生存人数与预期生存人数不相符\n",
      "H1: 观察生存人数与预期生存人数相符\n",
      "α=0.05，卡方检验\n",
      "==============================\n",
      "[136  87 119]\n",
      "Pclass\n",
      "1    216\n",
      "2    184\n",
      "3    491\n",
      "Name: Survived, dtype: int64\n",
      "[  82.90909091   70.62626263  188.46464646]\n",
      "Power_divergenceResult(statistic=63.396245597723173, pvalue=1.7126955990497913e-14)\n"
     ]
    }
   ],
   "source": [
    "# Pclass为离散变量，用卡方检验，取α=0.05\n",
    "from scipy.stats import chisquare\n",
    "\n",
    "print '观察生存人数与预期生存人数比较' \n",
    "print 'H0: 观察生存人数与预期生存人数不相符'\n",
    "print 'H1: 观察生存人数与预期生存人数相符'\n",
    "print 'α=0.05，卡方检验'\n",
    "print '='*30\n",
    "pclass_sum = survived_group.sum()\n",
    "pclass_count = survived_group.count()\n",
    "f_obs = pclass_sum.values\n",
    "f_exp = (pclass_count * original_df['Survived'].mean()).values\n",
    "print f_obs\n",
    "print f_exp\n",
    "print chisquare(f_obs, f_exp)    "
   ]
  },
  {
   "cell_type": "code",
   "execution_count": 11,
   "metadata": {},
   "outputs": [
    {
     "name": "stdout",
     "output_type": "stream",
     "text": [
      "各样本与总体均数比较\n",
      "H0: 样本n的生存率与总体生存率相同\n",
      "H1: 样本n的生存率与总体生存率不同\n",
      "α=0.05，单侧t检验\n",
      "==============================\n",
      "class_1:  Ttest_1sampResult(statistic=7.4631976656913208, pvalue=2.0696038884307953e-12)\n",
      "class_2:  Ttest_1sampResult(statistic=2.411170223196581, pvalue=0.016890381946305565)\n",
      "class_3:  Ttest_1sampResult(statistic=-7.3083092995905927, pvalue=1.1069172439274134e-12)\n",
      "\n",
      "各样本两两比较\n",
      "H0: 样本A的生存率与样本B的生存率相同\n",
      "H1: 样本A的生存率与样本B的生存率不同\n",
      "α=0.05，单侧t检验\n",
      "==============================\n",
      "class_1 vs class_2:  Ttest_indResult(statistic=3.1786140523324851, pvalue=0.0015954656668372637)\n",
      "class_2 vs class_3:  Ttest_indResult(statistic=5.9306379718227102, pvalue=4.824799495146526e-09)\n",
      "class_1 vs class_3:  Ttest_indResult(statistic=10.623796623966948, pvalue=1.4803959119909571e-24)\n"
     ]
    }
   ],
   "source": [
    "# 视不同舱位等级的人员为各自独立样本\n",
    "from scipy.stats import ttest_ind, ttest_1samp\n",
    "\n",
    "class_1 = original_df[original_df['Pclass']==1]['Survived']\n",
    "class_2 = original_df[original_df['Pclass']==2]['Survived']\n",
    "class_3 = original_df[original_df['Pclass']==3]['Survived']\n",
    "\n",
    "print '各样本与总体均数比较' \n",
    "print 'H0: 样本n的生存率与总体生存率相同'\n",
    "print 'H1: 样本n的生存率与总体生存率不同'\n",
    "print 'α=0.05，单侧t检验'\n",
    "print '='*30\n",
    "print 'class_1: ', ttest_1samp(class_1, original_df['Survived'].mean())\n",
    "print 'class_2: ', ttest_1samp(class_2, original_df['Survived'].mean())\n",
    "print 'class_3: ', ttest_1samp(class_3, original_df['Survived'].mean())\n",
    "\n",
    "print ''\n",
    "\n",
    "print '各样本两两比较'\n",
    "print 'H0: 样本A的生存率与样本B的生存率相同'\n",
    "print 'H1: 样本A的生存率与样本B的生存率不同'\n",
    "print 'α=0.05，单侧t检验'\n",
    "print '='*30\n",
    "print 'class_1 vs class_2: ', ttest_ind(class_1, class_2)\n",
    "print 'class_2 vs class_3: ', ttest_ind(class_2, class_3)\n",
    "print 'class_1 vs class_3: ', ttest_ind(class_1, class_3)"
   ]
  },
  {
   "cell_type": "markdown",
   "metadata": {},
   "source": [
    "**结论4.2.1**\n",
    "- 因为$ P_{class\\_1} = 2.070*10^{-12} < 0.10^{[*]} $、$ P_{class\\_2} = 0.017 < 0.10 $、 $ P_{class\\_3} = 1.107*10^{-12} < 0.10 $，故按 $α=0.05$ 水平，拒绝 $ H_0 $，接受 $ H_1 $，即不同舱位等级乘员的生存率与总体生存率不同，一等舱和二等舱的生存率高于总体生存率，三等舱的生存率低于总体生存率。\n",
    "- 因为$ P_{class\\_1/class\\_2} = 0.002 < 0.10 $、$ P_{class\\_2/class\\_3} = 4.825*10^{-9} < 0.10 $、 $ P_{class\\_1/class\\_3} = 1.480*10^{-24} < 0.10 $，故按 $α=0.05$ 水平，拒绝 $ H_0 $，接受 $ H_1 $，即不同舱位等级的乘客生存率不同，一等舱生存率高于二等舱生存率高于三等舱生存率\n",
    "\n",
    "[\\*] 计算结果为双侧"
   ]
  },
  {
   "cell_type": "markdown",
   "metadata": {},
   "source": [
    "#### 4.2.2 年龄（Age）"
   ]
  },
  {
   "cell_type": "code",
   "execution_count": 12,
   "metadata": {},
   "outputs": [
    {
     "data": {
      "text/plain": [
       "count    714.000000\n",
       "mean      29.699118\n",
       "std       14.526497\n",
       "min        0.420000\n",
       "25%       20.125000\n",
       "50%       28.000000\n",
       "75%       38.000000\n",
       "max       80.000000\n",
       "Name: Age, dtype: float64"
      ]
     },
     "execution_count": 12,
     "metadata": {},
     "output_type": "execute_result"
    }
   ],
   "source": [
    "# 查看年龄分布情况\n",
    "valid_age_df['Age'].describe()"
   ]
  },
  {
   "cell_type": "code",
   "execution_count": 56,
   "metadata": {},
   "outputs": [
    {
     "name": "stderr",
     "output_type": "stream",
     "text": [
      "c:\\python27\\lib\\site-packages\\ipykernel_launcher.py:2: SettingWithCopyWarning: \n",
      "A value is trying to be set on a copy of a slice from a DataFrame.\n",
      "Try using .loc[row_indexer,col_indexer] = value instead\n",
      "\n",
      "See the caveats in the documentation: http://pandas.pydata.org/pandas-docs/stable/indexing.html#indexing-view-versus-copy\n",
      "  \n"
     ]
    }
   ],
   "source": [
    "# 按年龄每10岁为一组，分为 8 组：\n",
    "valid_age_df['Agegroup'] = valid_age_df['Age'].apply(lambda x: int((x - 0.001)//10))"
   ]
  },
  {
   "cell_type": "code",
   "execution_count": 57,
   "metadata": {},
   "outputs": [
    {
     "data": {
      "text/html": [
       "<div>\n",
       "<style scoped>\n",
       "    .dataframe tbody tr th:only-of-type {\n",
       "        vertical-align: middle;\n",
       "    }\n",
       "\n",
       "    .dataframe tbody tr th {\n",
       "        vertical-align: top;\n",
       "    }\n",
       "\n",
       "    .dataframe thead th {\n",
       "        text-align: right;\n",
       "    }\n",
       "</style>\n",
       "<table border=\"1\" class=\"dataframe\">\n",
       "  <thead>\n",
       "    <tr style=\"text-align: right;\">\n",
       "      <th></th>\n",
       "      <th>PassengerId</th>\n",
       "      <th>Survived</th>\n",
       "      <th>Pclass</th>\n",
       "      <th>Name</th>\n",
       "      <th>Sex</th>\n",
       "      <th>Age</th>\n",
       "      <th>SibSp</th>\n",
       "      <th>Parch</th>\n",
       "      <th>Ticket</th>\n",
       "      <th>Fare</th>\n",
       "      <th>Cabin</th>\n",
       "      <th>Embarked</th>\n",
       "      <th>Agegroup</th>\n",
       "    </tr>\n",
       "  </thead>\n",
       "  <tbody>\n",
       "    <tr>\n",
       "      <th>0</th>\n",
       "      <td>1</td>\n",
       "      <td>0</td>\n",
       "      <td>3</td>\n",
       "      <td>Braund, Mr. Owen Harris</td>\n",
       "      <td>male</td>\n",
       "      <td>22.0</td>\n",
       "      <td>1</td>\n",
       "      <td>0</td>\n",
       "      <td>A/5 21171</td>\n",
       "      <td>7.2500</td>\n",
       "      <td>NaN</td>\n",
       "      <td>S</td>\n",
       "      <td>2</td>\n",
       "    </tr>\n",
       "    <tr>\n",
       "      <th>1</th>\n",
       "      <td>2</td>\n",
       "      <td>1</td>\n",
       "      <td>1</td>\n",
       "      <td>Cumings, Mrs. John Bradley (Florence Briggs Th...</td>\n",
       "      <td>female</td>\n",
       "      <td>38.0</td>\n",
       "      <td>1</td>\n",
       "      <td>0</td>\n",
       "      <td>PC 17599</td>\n",
       "      <td>71.2833</td>\n",
       "      <td>C85</td>\n",
       "      <td>C</td>\n",
       "      <td>3</td>\n",
       "    </tr>\n",
       "    <tr>\n",
       "      <th>2</th>\n",
       "      <td>3</td>\n",
       "      <td>1</td>\n",
       "      <td>3</td>\n",
       "      <td>Heikkinen, Miss. Laina</td>\n",
       "      <td>female</td>\n",
       "      <td>26.0</td>\n",
       "      <td>0</td>\n",
       "      <td>0</td>\n",
       "      <td>STON/O2. 3101282</td>\n",
       "      <td>7.9250</td>\n",
       "      <td>NaN</td>\n",
       "      <td>S</td>\n",
       "      <td>2</td>\n",
       "    </tr>\n",
       "    <tr>\n",
       "      <th>3</th>\n",
       "      <td>4</td>\n",
       "      <td>1</td>\n",
       "      <td>1</td>\n",
       "      <td>Futrelle, Mrs. Jacques Heath (Lily May Peel)</td>\n",
       "      <td>female</td>\n",
       "      <td>35.0</td>\n",
       "      <td>1</td>\n",
       "      <td>0</td>\n",
       "      <td>113803</td>\n",
       "      <td>53.1000</td>\n",
       "      <td>C123</td>\n",
       "      <td>S</td>\n",
       "      <td>3</td>\n",
       "    </tr>\n",
       "    <tr>\n",
       "      <th>4</th>\n",
       "      <td>5</td>\n",
       "      <td>0</td>\n",
       "      <td>3</td>\n",
       "      <td>Allen, Mr. William Henry</td>\n",
       "      <td>male</td>\n",
       "      <td>35.0</td>\n",
       "      <td>0</td>\n",
       "      <td>0</td>\n",
       "      <td>373450</td>\n",
       "      <td>8.0500</td>\n",
       "      <td>NaN</td>\n",
       "      <td>S</td>\n",
       "      <td>3</td>\n",
       "    </tr>\n",
       "  </tbody>\n",
       "</table>\n",
       "</div>"
      ],
      "text/plain": [
       "   PassengerId  Survived  Pclass  \\\n",
       "0            1         0       3   \n",
       "1            2         1       1   \n",
       "2            3         1       3   \n",
       "3            4         1       1   \n",
       "4            5         0       3   \n",
       "\n",
       "                                                Name     Sex   Age  SibSp  \\\n",
       "0                            Braund, Mr. Owen Harris    male  22.0      1   \n",
       "1  Cumings, Mrs. John Bradley (Florence Briggs Th...  female  38.0      1   \n",
       "2                             Heikkinen, Miss. Laina  female  26.0      0   \n",
       "3       Futrelle, Mrs. Jacques Heath (Lily May Peel)  female  35.0      1   \n",
       "4                           Allen, Mr. William Henry    male  35.0      0   \n",
       "\n",
       "   Parch            Ticket     Fare Cabin Embarked  Agegroup  \n",
       "0      0         A/5 21171   7.2500   NaN        S         2  \n",
       "1      0          PC 17599  71.2833   C85        C         3  \n",
       "2      0  STON/O2. 3101282   7.9250   NaN        S         2  \n",
       "3      0            113803  53.1000  C123        S         3  \n",
       "4      0            373450   8.0500   NaN        S         3  "
      ]
     },
     "execution_count": 57,
     "metadata": {},
     "output_type": "execute_result"
    }
   ],
   "source": [
    "valid_age_df.head()"
   ]
  },
  {
   "cell_type": "code",
   "execution_count": 58,
   "metadata": {},
   "outputs": [
    {
     "data": {
      "text/html": [
       "<div>\n",
       "<style scoped>\n",
       "    .dataframe tbody tr th:only-of-type {\n",
       "        vertical-align: middle;\n",
       "    }\n",
       "\n",
       "    .dataframe tbody tr th {\n",
       "        vertical-align: top;\n",
       "    }\n",
       "\n",
       "    .dataframe thead th {\n",
       "        text-align: right;\n",
       "    }\n",
       "</style>\n",
       "<table border=\"1\" class=\"dataframe\">\n",
       "  <thead>\n",
       "    <tr style=\"text-align: right;\">\n",
       "      <th></th>\n",
       "      <th>count</th>\n",
       "      <th>mean</th>\n",
       "      <th>std</th>\n",
       "      <th>min</th>\n",
       "      <th>25%</th>\n",
       "      <th>50%</th>\n",
       "      <th>75%</th>\n",
       "      <th>max</th>\n",
       "    </tr>\n",
       "    <tr>\n",
       "      <th>Agegroup</th>\n",
       "      <th></th>\n",
       "      <th></th>\n",
       "      <th></th>\n",
       "      <th></th>\n",
       "      <th></th>\n",
       "      <th></th>\n",
       "      <th></th>\n",
       "      <th></th>\n",
       "    </tr>\n",
       "  </thead>\n",
       "  <tbody>\n",
       "    <tr>\n",
       "      <th>0</th>\n",
       "      <td>64.0</td>\n",
       "      <td>0.593750</td>\n",
       "      <td>0.495015</td>\n",
       "      <td>0.0</td>\n",
       "      <td>0.0</td>\n",
       "      <td>1.0</td>\n",
       "      <td>1.0</td>\n",
       "      <td>1.0</td>\n",
       "    </tr>\n",
       "    <tr>\n",
       "      <th>1</th>\n",
       "      <td>115.0</td>\n",
       "      <td>0.382609</td>\n",
       "      <td>0.488151</td>\n",
       "      <td>0.0</td>\n",
       "      <td>0.0</td>\n",
       "      <td>0.0</td>\n",
       "      <td>1.0</td>\n",
       "      <td>1.0</td>\n",
       "    </tr>\n",
       "    <tr>\n",
       "      <th>2</th>\n",
       "      <td>230.0</td>\n",
       "      <td>0.365217</td>\n",
       "      <td>0.482541</td>\n",
       "      <td>0.0</td>\n",
       "      <td>0.0</td>\n",
       "      <td>0.0</td>\n",
       "      <td>1.0</td>\n",
       "      <td>1.0</td>\n",
       "    </tr>\n",
       "    <tr>\n",
       "      <th>3</th>\n",
       "      <td>155.0</td>\n",
       "      <td>0.445161</td>\n",
       "      <td>0.498595</td>\n",
       "      <td>0.0</td>\n",
       "      <td>0.0</td>\n",
       "      <td>0.0</td>\n",
       "      <td>1.0</td>\n",
       "      <td>1.0</td>\n",
       "    </tr>\n",
       "    <tr>\n",
       "      <th>4</th>\n",
       "      <td>86.0</td>\n",
       "      <td>0.383721</td>\n",
       "      <td>0.489143</td>\n",
       "      <td>0.0</td>\n",
       "      <td>0.0</td>\n",
       "      <td>0.0</td>\n",
       "      <td>1.0</td>\n",
       "      <td>1.0</td>\n",
       "    </tr>\n",
       "    <tr>\n",
       "      <th>5</th>\n",
       "      <td>42.0</td>\n",
       "      <td>0.404762</td>\n",
       "      <td>0.496796</td>\n",
       "      <td>0.0</td>\n",
       "      <td>0.0</td>\n",
       "      <td>0.0</td>\n",
       "      <td>1.0</td>\n",
       "      <td>1.0</td>\n",
       "    </tr>\n",
       "    <tr>\n",
       "      <th>6</th>\n",
       "      <td>17.0</td>\n",
       "      <td>0.235294</td>\n",
       "      <td>0.437237</td>\n",
       "      <td>0.0</td>\n",
       "      <td>0.0</td>\n",
       "      <td>0.0</td>\n",
       "      <td>0.0</td>\n",
       "      <td>1.0</td>\n",
       "    </tr>\n",
       "    <tr>\n",
       "      <th>7</th>\n",
       "      <td>5.0</td>\n",
       "      <td>0.200000</td>\n",
       "      <td>0.447214</td>\n",
       "      <td>0.0</td>\n",
       "      <td>0.0</td>\n",
       "      <td>0.0</td>\n",
       "      <td>0.0</td>\n",
       "      <td>1.0</td>\n",
       "    </tr>\n",
       "  </tbody>\n",
       "</table>\n",
       "</div>"
      ],
      "text/plain": [
       "          count      mean       std  min  25%  50%  75%  max\n",
       "Agegroup                                                    \n",
       "0          64.0  0.593750  0.495015  0.0  0.0  1.0  1.0  1.0\n",
       "1         115.0  0.382609  0.488151  0.0  0.0  0.0  1.0  1.0\n",
       "2         230.0  0.365217  0.482541  0.0  0.0  0.0  1.0  1.0\n",
       "3         155.0  0.445161  0.498595  0.0  0.0  0.0  1.0  1.0\n",
       "4          86.0  0.383721  0.489143  0.0  0.0  0.0  1.0  1.0\n",
       "5          42.0  0.404762  0.496796  0.0  0.0  0.0  1.0  1.0\n",
       "6          17.0  0.235294  0.437237  0.0  0.0  0.0  0.0  1.0\n",
       "7           5.0  0.200000  0.447214  0.0  0.0  0.0  0.0  1.0"
      ]
     },
     "execution_count": 58,
     "metadata": {},
     "output_type": "execute_result"
    }
   ],
   "source": [
    "valid_age_df.groupby('Agegroup')['Survived'].describe()"
   ]
  },
  {
   "cell_type": "code",
   "execution_count": 89,
   "metadata": {},
   "outputs": [
    {
     "data": {
      "image/png": "[encoded data removed]",
      "text/plain": [
       "<matplotlib.figure.Figure at 0xd446a90>"
      ]
     },
     "metadata": {},
     "output_type": "display_data"
    }
   ],
   "source": [
    "# 生存乘员年龄分布\n",
    "plt.hist(valid_age_df[valid_age_df['Survived']==1]['Age'])\n",
    "plt.xlabel('Age(years old)')\n",
    "plt.ylabel('Frequency')\n",
    "plt.title('Fig.2 Age Distribution of Survived')\n",
    "plt.show()"
   ]
  },
  {
   "cell_type": "code",
   "execution_count": 73,
   "metadata": {},
   "outputs": [
    {
     "data": {
      "image/png": "[encoded data removed]",
      "text/plain": [
       "<matplotlib.figure.Figure at 0xe278d30>"
      ]
     },
     "metadata": {},
     "output_type": "display_data"
    }
   ],
   "source": [
    "A = valid_age_df.groupby('Agegroup')['Survived'].mean()\n",
    "plt.bar(A.index,A.values*100, tick_label=['<10','10-20','20-30','30-40','40-50','50-60','60-70','70-80'])\n",
    "plt.xlabel('Age(years old)')\n",
    "plt.ylabel('Survival(%)')\n",
    "plt.title('Fig.2 Age - Survival Relation')\n",
    "plt.show()"
   ]
  },
  {
   "cell_type": "code",
   "execution_count": 53,
   "metadata": {},
   "outputs": [
    {
     "name": "stdout",
     "output_type": "stream",
     "text": [
      "各样本与总体均数比较\n",
      "H0: 样本n的生存率与总体生存率相同\n",
      "H1: 样本n的生存率与总体生存率不同\n",
      "α=0.05，单尾t检验\n",
      "==============================\n",
      "10岁以下:  Ttest_1sampResult(statistic=3.0316269074489375, pvalue=0.0035278697359956961)\n",
      "10 ~ 20岁:  Ttest_1sampResult(statistic=-0.51743424867834753, pvalue=0.60585563429174139)\n",
      "20 ~ 30岁:  Ttest_1sampResult(statistic=-1.2868595896229751, pvalue=0.19944252093645054)\n",
      "30 ~ 40岁:  Ttest_1sampResult(statistic=0.97380009743201446, pvalue=0.33168291549268702)\n",
      "40 ~ 50岁:  Ttest_1sampResult(statistic=-0.42546668930831599, pvalue=0.67157178922433469)\n",
      "50 ~ 60岁:  Ttest_1sampResult(statistic=-0.018270420460130162, pvalue=0.98551174843507838)\n",
      "60 ~ 70岁:  Ttest_1sampResult(statistic=-1.6112719985589989, pvalue=0.12666898151774331)\n",
      "70 ~ 80岁:  Ttest_1sampResult(statistic=-1.0308123249299719, pvalue=0.36087539994202772)\n"
     ]
    }
   ],
   "source": [
    "# 验证10岁以下和60岁以上乘员的平均生存率与总体生存率是否相同\n",
    "G0= valid_age_df[valid_age_df['Agegroup']==0]['Survived']   # 10岁以下\n",
    "G1 = valid_age_df[valid_age_df['Agegroup']==1]['Survived']   # 10 ~ 20岁\n",
    "G2 = valid_age_df[valid_age_df['Agegroup']==2]['Survived']   # 20 ~ 30岁\n",
    "G3 = valid_age_df[valid_age_df['Agegroup']==3]['Survived']   # 30 ~ 40岁\n",
    "G4 = valid_age_df[valid_age_df['Agegroup']==4]['Survived']   # 40 ~ 50岁\n",
    "G5 = valid_age_df[valid_age_df['Agegroup']==5]['Survived']   # 50 ~ 60岁\n",
    "G6 = valid_age_df[valid_age_df['Agegroup']==6]['Survived']   # 60 ~ 70岁\n",
    "G7 = valid_age_df[valid_age_df['Agegroup']==7]['Survived']   # 70 ~ 80岁\n",
    "\n",
    "print '各样本与总体均数比较' \n",
    "print 'H0: 样本n的生存率与总体生存率相同'\n",
    "print 'H1: 样本n的生存率与总体生存率不同'\n",
    "print 'α=0.05，单尾t检验'\n",
    "print '='*30\n",
    "print '10岁以下: ', ttest_1samp(G0, valid_age_df['Survived'].mean())\n",
    "print '10 ~ 20岁: ', ttest_1samp(G1, valid_age_df['Survived'].mean())\n",
    "print '20 ~ 30岁: ', ttest_1samp(G2, valid_age_df['Survived'].mean())\n",
    "print '30 ~ 40岁: ', ttest_1samp(G3, valid_age_df['Survived'].mean())\n",
    "print '40 ~ 50岁: ', ttest_1samp(G4, valid_age_df['Survived'].mean())\n",
    "print '50 ~ 60岁: ', ttest_1samp(G5, valid_age_df['Survived'].mean())\n",
    "print '60 ~ 70岁: ', ttest_1samp(G6, valid_age_df['Survived'].mean())\n",
    "print '70 ~ 80岁: ', ttest_1samp(G7, valid_age_df['Survived'].mean())"
   ]
  },
  {
   "cell_type": "markdown",
   "metadata": {},
   "source": [
    "**结论4.2.2**\n",
    "- 从上图大致推测10岁以下、60~70岁和70~80岁3个年龄段生存率与其他年龄段生存率差异较明显\n",
    "- 从t检验结果可得出结论：10岁以下乘员的生存率高于总体生存率，其他年龄段生存率与总体生存率相同"
   ]
  },
  {
   "cell_type": "code",
   "execution_count": null,
   "metadata": {
    "collapsed": true
   },
   "outputs": [],
   "source": []
  },
  {
   "cell_type": "markdown",
   "metadata": {},
   "source": [
    "#### 4.2.3 性别（Sex）"
   ]
  },
  {
   "cell_type": "code",
   "execution_count": null,
   "metadata": {
    "collapsed": true
   },
   "outputs": [],
   "source": []
  },
  {
   "cell_type": "markdown",
   "metadata": {},
   "source": [
    "#### 4.2.4 有亲属同船的（SibSp, Parch）"
   ]
  },
  {
   "cell_type": "code",
   "execution_count": null,
   "metadata": {
    "collapsed": true
   },
   "outputs": [],
   "source": []
  },
  {
   "cell_type": "markdown",
   "metadata": {},
   "source": [
    "#### 4.2.5 登船港口（Embarked）"
   ]
  },
  {
   "cell_type": "code",
   "execution_count": null,
   "metadata": {
    "collapsed": true
   },
   "outputs": [],
   "source": []
  }
 ],
 "metadata": {
  "kernelspec": {
   "display_name": "Python 2",
   "language": "python",
   "name": "python2"
  },
  "language_info": {
   "codemirror_mode": {
    "name": "ipython",
    "version": 2
   },
   "file_extension": ".py",
   "mimetype": "text/x-python",
   "name": "python",
   "nbconvert_exporter": "python",
   "pygments_lexer": "ipython2",
   "version": "2.7.13"
  }
 },
 "nbformat": 4,
 "nbformat_minor": 2
}
