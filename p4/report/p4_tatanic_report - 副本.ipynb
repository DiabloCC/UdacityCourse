{
 "cells": [
  {
   "cell_type": "markdown",
   "metadata": {},
   "source": [
    "# 泰坦尼克号数据集调查"
   ]
  },
  {
   "cell_type": "markdown",
   "metadata": {},
   "source": [
    "## 1 查看数据集结构"
   ]
  },
  {
   "cell_type": "code",
   "execution_count": 29,
   "metadata": {},
   "outputs": [
    {
     "data": {
      "text/html": [
       "<div>\n",
       "<style scoped>\n",
       "    .dataframe tbody tr th:only-of-type {\n",
       "        vertical-align: middle;\n",
       "    }\n",
       "\n",
       "    .dataframe tbody tr th {\n",
       "        vertical-align: top;\n",
       "    }\n",
       "\n",
       "    .dataframe thead th {\n",
       "        text-align: right;\n",
       "    }\n",
       "</style>\n",
       "<table border=\"1\" class=\"dataframe\">\n",
       "  <thead>\n",
       "    <tr style=\"text-align: right;\">\n",
       "      <th></th>\n",
       "      <th>PassengerId</th>\n",
       "      <th>Survived</th>\n",
       "      <th>Pclass</th>\n",
       "      <th>Name</th>\n",
       "      <th>Sex</th>\n",
       "      <th>Age</th>\n",
       "      <th>SibSp</th>\n",
       "      <th>Parch</th>\n",
       "      <th>Ticket</th>\n",
       "      <th>Fare</th>\n",
       "      <th>Cabin</th>\n",
       "      <th>Embarked</th>\n",
       "    </tr>\n",
       "  </thead>\n",
       "  <tbody>\n",
       "    <tr>\n",
       "      <th>0</th>\n",
       "      <td>1</td>\n",
       "      <td>0</td>\n",
       "      <td>3</td>\n",
       "      <td>Braund, Mr. Owen Harris</td>\n",
       "      <td>male</td>\n",
       "      <td>22.0</td>\n",
       "      <td>1</td>\n",
       "      <td>0</td>\n",
       "      <td>A/5 21171</td>\n",
       "      <td>7.2500</td>\n",
       "      <td>NaN</td>\n",
       "      <td>S</td>\n",
       "    </tr>\n",
       "    <tr>\n",
       "      <th>1</th>\n",
       "      <td>2</td>\n",
       "      <td>1</td>\n",
       "      <td>1</td>\n",
       "      <td>Cumings, Mrs. John Bradley (Florence Briggs Th...</td>\n",
       "      <td>female</td>\n",
       "      <td>38.0</td>\n",
       "      <td>1</td>\n",
       "      <td>0</td>\n",
       "      <td>PC 17599</td>\n",
       "      <td>71.2833</td>\n",
       "      <td>C85</td>\n",
       "      <td>C</td>\n",
       "    </tr>\n",
       "    <tr>\n",
       "      <th>2</th>\n",
       "      <td>3</td>\n",
       "      <td>1</td>\n",
       "      <td>3</td>\n",
       "      <td>Heikkinen, Miss. Laina</td>\n",
       "      <td>female</td>\n",
       "      <td>26.0</td>\n",
       "      <td>0</td>\n",
       "      <td>0</td>\n",
       "      <td>STON/O2. 3101282</td>\n",
       "      <td>7.9250</td>\n",
       "      <td>NaN</td>\n",
       "      <td>S</td>\n",
       "    </tr>\n",
       "    <tr>\n",
       "      <th>3</th>\n",
       "      <td>4</td>\n",
       "      <td>1</td>\n",
       "      <td>1</td>\n",
       "      <td>Futrelle, Mrs. Jacques Heath (Lily May Peel)</td>\n",
       "      <td>female</td>\n",
       "      <td>35.0</td>\n",
       "      <td>1</td>\n",
       "      <td>0</td>\n",
       "      <td>113803</td>\n",
       "      <td>53.1000</td>\n",
       "      <td>C123</td>\n",
       "      <td>S</td>\n",
       "    </tr>\n",
       "    <tr>\n",
       "      <th>4</th>\n",
       "      <td>5</td>\n",
       "      <td>0</td>\n",
       "      <td>3</td>\n",
       "      <td>Allen, Mr. William Henry</td>\n",
       "      <td>male</td>\n",
       "      <td>35.0</td>\n",
       "      <td>0</td>\n",
       "      <td>0</td>\n",
       "      <td>373450</td>\n",
       "      <td>8.0500</td>\n",
       "      <td>NaN</td>\n",
       "      <td>S</td>\n",
       "    </tr>\n",
       "  </tbody>\n",
       "</table>\n",
       "</div>"
      ],
      "text/plain": [
       "   PassengerId  Survived  Pclass  \\\n",
       "0            1         0       3   \n",
       "1            2         1       1   \n",
       "2            3         1       3   \n",
       "3            4         1       1   \n",
       "4            5         0       3   \n",
       "\n",
       "                                                Name     Sex   Age  SibSp  \\\n",
       "0                            Braund, Mr. Owen Harris    male  22.0      1   \n",
       "1  Cumings, Mrs. John Bradley (Florence Briggs Th...  female  38.0      1   \n",
       "2                             Heikkinen, Miss. Laina  female  26.0      0   \n",
       "3       Futrelle, Mrs. Jacques Heath (Lily May Peel)  female  35.0      1   \n",
       "4                           Allen, Mr. William Henry    male  35.0      0   \n",
       "\n",
       "   Parch            Ticket     Fare Cabin Embarked  \n",
       "0      0         A/5 21171   7.2500   NaN        S  \n",
       "1      0          PC 17599  71.2833   C85        C  \n",
       "2      0  STON/O2. 3101282   7.9250   NaN        S  \n",
       "3      0            113803  53.1000  C123        S  \n",
       "4      0            373450   8.0500   NaN        S  "
      ]
     },
     "execution_count": 29,
     "metadata": {},
     "output_type": "execute_result"
    }
   ],
   "source": [
    "import pandas as pd\n",
    "import matplotlib.pyplot as plt\n",
    "import seaborn as sns\n",
    "%matplotlib inline\n",
    "\n",
    "file_path = './titanic-data.csv'\n",
    "original_df = pd.read_csv(file_path)\n",
    "original_df.head()"
   ]
  },
  {
   "cell_type": "markdown",
   "metadata": {},
   "source": [
    "#### [Kaggle网站](https://www.kaggle.com/c/titanic/data)上的数据集结构说明：\n",
    "\n",
    "**Data Dictionary**\n",
    "\n",
    "|Variable|Definition|Key|\n",
    "|:-|:-|:-|\n",
    "|survival|Survival|0 = No, 1 = Yes|\n",
    "|pclass|Ticket class|1 = 1st, 2 = 2nd, 3 = 3rd|\n",
    "|sex|Sex||\t\n",
    "|Age|Age in years||\t\n",
    "|sibsp|# of siblings / spouses aboard the Titanic||\n",
    "|parch|# of parents / children aboard the Titanic||\n",
    "|ticket|Ticket number||\t\n",
    "|fare|Passenger fare||\t\n",
    "|cabin|Cabin number||\n",
    "|embarked|Port of Embarkation|C = Cherbourg, Q = Queenstown, S = Southampton|\n",
    "\n",
    "\n",
    "**Variable Notes**\n",
    "\n",
    "**pclass**: A proxy for socio-economic status (SES)\n",
    "<br>1st = Upper\n",
    "<br>2nd = Middle\n",
    "<br>3rd = Lower\n",
    "\n",
    "**age**: Age is fractional if less than 1. If the age is estimated, is it in the form of xx.5\n",
    "\n",
    "**sibsp**: The dataset defines family relations in this way...\n",
    "<br>Sibling = brother, sister, stepbrother, stepsister\n",
    "<br>Spouse = husband, wife (mistresses and fiancés were ignored)\n",
    "\n",
    "**parch**: The dataset defines family relations in this way...\n",
    "<br>Parent = mother, father\n",
    "<br>Child = daughter, son, stepdaughter, stepson\n",
    "<br>Some children travelled only with a nanny, therefore parch=0 for them.\n"
   ]
  },
  {
   "cell_type": "code",
   "execution_count": 30,
   "metadata": {},
   "outputs": [
    {
     "name": "stdout",
     "output_type": "stream",
     "text": [
      "891\n"
     ]
    }
   ],
   "source": [
    "# 数据行数\n",
    "print len(original_df)"
   ]
  },
  {
   "cell_type": "markdown",
   "metadata": {},
   "source": [
    "## 2 定义调查问题 \n",
    "### 2.1 有哪些因素会让船上的人生还率更高？\n",
    "* 舱位等级（Pclass）\n",
    "* 年龄\n",
    "* 性别\n",
    "* 有亲属同船的\n",
    "* 登船港口\n",
    "\n",
    "### 2.2 有哪些因素与社会地位/舱位（Pclass）相关?\n",
    "* 年龄\n",
    "* 性别\n",
    "* 有亲属同船\n",
    "* 登船港口"
   ]
  },
  {
   "cell_type": "markdown",
   "metadata": {},
   "source": [
    "## 3 数据加工（缺失数据处理）\n",
    "### 3.1 查看各列缺失值数量"
   ]
  },
  {
   "cell_type": "code",
   "execution_count": 31,
   "metadata": {},
   "outputs": [
    {
     "name": "stdout",
     "output_type": "stream",
     "text": [
      "          列名    缺失值数量\n",
      "==============================\n",
      "     PassengerId    0\n",
      "        Survived    0\n",
      "          Pclass    0\n",
      "            Name    0\n",
      "             Sex    0\n",
      "             Age    177\n",
      "           SibSp    0\n",
      "           Parch    0\n",
      "          Ticket    0\n",
      "            Fare    0\n",
      "           Cabin    687\n",
      "        Embarked    2\n"
     ]
    }
   ],
   "source": [
    "print '%16s    %s' % ('列名', '缺失值数量')\n",
    "print '='*30\n",
    "for col in original_df:\n",
    "    print '%16s    %d' % (col,sum(original_df[col].isna()))\n"
   ]
  },
  {
   "cell_type": "markdown",
   "metadata": {},
   "source": [
    "从初步调查看：\n",
    "- 缺失值最多的是舱号（Cabin），由于调查问题中不涉及该列, 可不做处理\n",
    "- 年龄（Age）缺失值较多, 而港口（Embarked）缺失值较少，可以查看缺港口的是否同时缺年龄"
   ]
  },
  {
   "cell_type": "code",
   "execution_count": 32,
   "metadata": {},
   "outputs": [
    {
     "name": "stdout",
     "output_type": "stream",
     "text": [
      "0\n"
     ]
    }
   ],
   "source": [
    "# 查看港口和年龄同时缺失的记录数\n",
    "print sum(original_df['Embarked'].isna() & original_df['Age'].isna())"
   ]
  },
  {
   "cell_type": "markdown",
   "metadata": {},
   "source": [
    "### 3.2 处理缺失数据"
   ]
  },
  {
   "cell_type": "code",
   "execution_count": 33,
   "metadata": {},
   "outputs": [
    {
     "name": "stdout",
     "output_type": "stream",
     "text": [
      "714\n",
      "889\n"
     ]
    }
   ],
   "source": [
    "valid_age_df = original_df.loc[original_df['Age'].notna()]\n",
    "valid_harbour_df = original_df.loc[original_df['Embarked'].notna()]\n",
    "# 验证记录数\n",
    "print len(valid_age_df)\n",
    "print len(valid_harbour_df)"
   ]
  },
  {
   "cell_type": "markdown",
   "metadata": {},
   "source": [
    "## 4 调查数据\n",
    "### 4.1 描述数据"
   ]
  },
  {
   "cell_type": "code",
   "execution_count": 34,
   "metadata": {},
   "outputs": [
    {
     "name": "stdout",
     "output_type": "stream",
     "text": [
      "count    891.000000\n",
      "mean       0.383838\n",
      "std        0.486592\n",
      "min        0.000000\n",
      "25%        0.000000\n",
      "50%        0.000000\n",
      "75%        1.000000\n",
      "max        1.000000\n",
      "Name: Survived, dtype: float64 \n",
      "\n",
      "count    891.000000\n",
      "mean       2.308642\n",
      "std        0.836071\n",
      "min        1.000000\n",
      "25%        2.000000\n",
      "50%        3.000000\n",
      "75%        3.000000\n",
      "max        3.000000\n",
      "Name: Pclass, dtype: float64 \n",
      "\n",
      "count    714.000000\n",
      "mean      29.699118\n",
      "std       14.526497\n",
      "min        0.420000\n",
      "25%       20.125000\n",
      "50%       28.000000\n",
      "75%       38.000000\n",
      "max       80.000000\n",
      "Name: Age, dtype: float64 \n",
      "\n",
      "count      891\n",
      "unique       2\n",
      "top       male\n",
      "freq       577\n",
      "Name: Sex, dtype: object \n",
      "\n",
      "count    891.000000\n",
      "mean       0.523008\n",
      "std        1.102743\n",
      "min        0.000000\n",
      "25%        0.000000\n",
      "50%        0.000000\n",
      "75%        1.000000\n",
      "max        8.000000\n",
      "Name: SibSp, dtype: float64 \n",
      "\n",
      "count    891.000000\n",
      "mean       0.381594\n",
      "std        0.806057\n",
      "min        0.000000\n",
      "25%        0.000000\n",
      "50%        0.000000\n",
      "75%        0.000000\n",
      "max        6.000000\n",
      "Name: Parch, dtype: float64 \n",
      "\n",
      "count    891.000000\n",
      "mean      32.204208\n",
      "std       49.693429\n",
      "min        0.000000\n",
      "25%        7.910400\n",
      "50%       14.454200\n",
      "75%       31.000000\n",
      "max      512.329200\n",
      "Name: Fare, dtype: float64 \n",
      "\n",
      "count     889\n",
      "unique      3\n",
      "top         S\n",
      "freq      644\n",
      "Name: Embarked, dtype: object \n",
      "\n"
     ]
    }
   ],
   "source": [
    "if True:\n",
    "    print original_df['Survived'].describe(),'\\n'\n",
    "\n",
    "if True:\n",
    "    print original_df['Pclass'].describe(),'\\n'\n",
    "\n",
    "if True:\n",
    "    print valid_age_df['Age'].describe(),'\\n'\n",
    "    \n",
    "if True:\n",
    "    print original_df['Sex'].describe(),'\\n'\n",
    "    \n",
    "if True:\n",
    "    print original_df['SibSp'].describe(),'\\n'\n",
    "    \n",
    "if True:\n",
    "    print original_df['Parch'].describe(),'\\n'\n",
    "    \n",
    "if True:\n",
    "    print original_df['Fare'].describe(),'\\n'\n",
    "    \n",
    "if True:\n",
    "    print valid_harbour_df['Embarked'].describe(),'\\n'"
   ]
  },
  {
   "cell_type": "markdown",
   "metadata": {
    "collapsed": true
   },
   "source": [
    "### 4.2 调查问题1：有哪些因素会让船上的人生还率更高？\n",
    "#### 4.2.1 舱位等级（Pclass）"
   ]
  },
  {
   "cell_type": "code",
   "execution_count": 35,
   "metadata": {},
   "outputs": [
    {
     "data": {
      "text/plain": [
       "count    891.000000\n",
       "mean       0.383838\n",
       "std        0.486592\n",
       "min        0.000000\n",
       "25%        0.000000\n",
       "50%        0.000000\n",
       "75%        1.000000\n",
       "max        1.000000\n",
       "Name: Survived, dtype: float64"
      ]
     },
     "execution_count": 35,
     "metadata": {},
     "output_type": "execute_result"
    }
   ],
   "source": [
    "# 总体生存率情况\n",
    "original_df['Survived'].describe()"
   ]
  },
  {
   "cell_type": "code",
   "execution_count": 36,
   "metadata": {},
   "outputs": [
    {
     "data": {
      "text/html": [
       "<div>\n",
       "<style scoped>\n",
       "    .dataframe tbody tr th:only-of-type {\n",
       "        vertical-align: middle;\n",
       "    }\n",
       "\n",
       "    .dataframe tbody tr th {\n",
       "        vertical-align: top;\n",
       "    }\n",
       "\n",
       "    .dataframe thead th {\n",
       "        text-align: right;\n",
       "    }\n",
       "</style>\n",
       "<table border=\"1\" class=\"dataframe\">\n",
       "  <thead>\n",
       "    <tr style=\"text-align: right;\">\n",
       "      <th></th>\n",
       "      <th>count</th>\n",
       "      <th>mean</th>\n",
       "      <th>std</th>\n",
       "      <th>min</th>\n",
       "      <th>25%</th>\n",
       "      <th>50%</th>\n",
       "      <th>75%</th>\n",
       "      <th>max</th>\n",
       "    </tr>\n",
       "    <tr>\n",
       "      <th>Pclass</th>\n",
       "      <th></th>\n",
       "      <th></th>\n",
       "      <th></th>\n",
       "      <th></th>\n",
       "      <th></th>\n",
       "      <th></th>\n",
       "      <th></th>\n",
       "      <th></th>\n",
       "    </tr>\n",
       "  </thead>\n",
       "  <tbody>\n",
       "    <tr>\n",
       "      <th>1</th>\n",
       "      <td>216.0</td>\n",
       "      <td>0.629630</td>\n",
       "      <td>0.484026</td>\n",
       "      <td>0.0</td>\n",
       "      <td>0.0</td>\n",
       "      <td>1.0</td>\n",
       "      <td>1.0</td>\n",
       "      <td>1.0</td>\n",
       "    </tr>\n",
       "    <tr>\n",
       "      <th>2</th>\n",
       "      <td>184.0</td>\n",
       "      <td>0.472826</td>\n",
       "      <td>0.500623</td>\n",
       "      <td>0.0</td>\n",
       "      <td>0.0</td>\n",
       "      <td>0.0</td>\n",
       "      <td>1.0</td>\n",
       "      <td>1.0</td>\n",
       "    </tr>\n",
       "    <tr>\n",
       "      <th>3</th>\n",
       "      <td>491.0</td>\n",
       "      <td>0.242363</td>\n",
       "      <td>0.428949</td>\n",
       "      <td>0.0</td>\n",
       "      <td>0.0</td>\n",
       "      <td>0.0</td>\n",
       "      <td>0.0</td>\n",
       "      <td>1.0</td>\n",
       "    </tr>\n",
       "  </tbody>\n",
       "</table>\n",
       "</div>"
      ],
      "text/plain": [
       "        count      mean       std  min  25%  50%  75%  max\n",
       "Pclass                                                    \n",
       "1       216.0  0.629630  0.484026  0.0  0.0  1.0  1.0  1.0\n",
       "2       184.0  0.472826  0.500623  0.0  0.0  0.0  1.0  1.0\n",
       "3       491.0  0.242363  0.428949  0.0  0.0  0.0  0.0  1.0"
      ]
     },
     "execution_count": 36,
     "metadata": {},
     "output_type": "execute_result"
    }
   ],
   "source": [
    "# 不同舱位等级乘员的生存率情况\n",
    "original_df.groupby('Pclass')['Survived'].describe()"
   ]
  },
  {
   "cell_type": "code",
   "execution_count": 37,
   "metadata": {},
   "outputs": [
    {
     "data": {
      "image/png": "[encoded data removed]",
      "text/plain": [
       "<matplotlib.figure.Figure at 0xa412070>"
      ]
     },
     "metadata": {},
     "output_type": "display_data"
    }
   ],
   "source": [
    "# 不同舱位等级生存率比较\n",
    "survived_group = original_df.groupby('Pclass')['Survived']\n",
    "pclass_mean = survived_group.mean()\n",
    "plt.bar(pclass_mean.index, pclass_mean.values*100, tick_label=pclass_mean.index)\n",
    "plt.xlabel('Ticket class')\n",
    "plt.ylabel('Survival(%)')\n",
    "plt.title('Fig.1 Ticket class - Survival Relation')\n",
    "plt.show()"
   ]
  },
  {
   "cell_type": "code",
   "execution_count": 38,
   "metadata": {},
   "outputs": [
    {
     "name": "stdout",
     "output_type": "stream",
     "text": [
      "观察生存人数与预期生存人数比较\n",
      "H0: 观察生存人数与预期生存人数不相符\n",
      "H1: 观察生存人数与预期生存人数相符\n",
      "α=0.05，卡方检验\n",
      "==============================\n",
      "实际生存人数： [136  87 119]\n",
      "预期生存人数： [  82.90909091   70.62626263  188.46464646]\n",
      "卡方检验： Power_divergenceResult(statistic=63.396245597723173, pvalue=1.7126955990497913e-14)\n"
     ]
    }
   ],
   "source": [
    "# Pclass为离散变量，用卡方检验，取α=0.05\n",
    "from scipy.stats import chisquare\n",
    "\n",
    "print '观察生存人数与预期生存人数比较' \n",
    "print 'H0: 观察生存人数与预期生存人数不相符'\n",
    "print 'H1: 观察生存人数与预期生存人数相符'\n",
    "print 'α=0.05，卡方检验'\n",
    "print '='*30\n",
    "pclass_sum = survived_group.sum()\n",
    "pclass_count = survived_group.count()\n",
    "f_obs = pclass_sum.values\n",
    "f_exp = (pclass_count * original_df['Survived'].mean()).values\n",
    "print '实际生存人数：', f_obs\n",
    "print '预期生存人数：', f_exp\n",
    "print '卡方检验：', chisquare(f_obs, f_exp)    "
   ]
  },
  {
   "cell_type": "markdown",
   "metadata": {},
   "source": [
    "**结论4.2.1**\n",
    "- 根据图1所示，舱位等级越高的乘员生存率越高。\n",
    "- 因为$ P = 1.713*10^{-14} $，故按 $α=0.05$ 水平，拒绝 $ H_1 $，接受 $ H_0 $，即不同舱位等级乘员的生存人数与预期（按总体生存率计算）生存人数不相符，也就是舱位等级与乘员的生存率有关。"
   ]
  },
  {
   "cell_type": "markdown",
   "metadata": {},
   "source": [
    "#### 4.2.2 年龄（Age）"
   ]
  },
  {
   "cell_type": "code",
   "execution_count": 39,
   "metadata": {},
   "outputs": [
    {
     "data": {
      "text/plain": [
       "count    714.000000\n",
       "mean      29.699118\n",
       "std       14.526497\n",
       "min        0.420000\n",
       "25%       20.125000\n",
       "50%       28.000000\n",
       "75%       38.000000\n",
       "max       80.000000\n",
       "Name: Age, dtype: float64"
      ]
     },
     "execution_count": 39,
     "metadata": {},
     "output_type": "execute_result"
    }
   ],
   "source": [
    "# 查看年龄分布情况\n",
    "valid_age_df['Age'].describe()"
   ]
  },
  {
   "cell_type": "code",
   "execution_count": 40,
   "metadata": {},
   "outputs": [
    {
     "data": {
      "image/png": "[encoded data removed]",
      "text/plain": [
       "<matplotlib.figure.Figure at 0xabfbfd0>"
      ]
     },
     "metadata": {},
     "output_type": "display_data"
    }
   ],
   "source": [
    "# 乘员年龄分布\n",
    "plt.hist(valid_age_df['Age'])\n",
    "plt.xlabel('Age(years old)')\n",
    "plt.ylabel('Frequency')\n",
    "plt.title('Fig.2 Age Distribution')\n",
    "plt.show()"
   ]
  },
  {
   "cell_type": "code",
   "execution_count": 41,
   "metadata": {},
   "outputs": [
    {
     "name": "stderr",
     "output_type": "stream",
     "text": [
      "c:\\python27\\lib\\site-packages\\ipykernel_launcher.py:2: SettingWithCopyWarning: \n",
      "A value is trying to be set on a copy of a slice from a DataFrame.\n",
      "Try using .loc[row_indexer,col_indexer] = value instead\n",
      "\n",
      "See the caveats in the documentation: http://pandas.pydata.org/pandas-docs/stable/indexing.html#indexing-view-versus-copy\n",
      "  \n"
     ]
    }
   ],
   "source": [
    "# 按年龄每10岁为一组，分为 8 组：\n",
    "valid_age_df['Agegroup'] = valid_age_df['Age'].apply(lambda x: int((x - 0.001)//10))"
   ]
  },
  {
   "cell_type": "code",
   "execution_count": 42,
   "metadata": {},
   "outputs": [
    {
     "data": {
      "text/html": [
       "<div>\n",
       "<style scoped>\n",
       "    .dataframe tbody tr th:only-of-type {\n",
       "        vertical-align: middle;\n",
       "    }\n",
       "\n",
       "    .dataframe tbody tr th {\n",
       "        vertical-align: top;\n",
       "    }\n",
       "\n",
       "    .dataframe thead th {\n",
       "        text-align: right;\n",
       "    }\n",
       "</style>\n",
       "<table border=\"1\" class=\"dataframe\">\n",
       "  <thead>\n",
       "    <tr style=\"text-align: right;\">\n",
       "      <th></th>\n",
       "      <th>PassengerId</th>\n",
       "      <th>Survived</th>\n",
       "      <th>Pclass</th>\n",
       "      <th>Name</th>\n",
       "      <th>Sex</th>\n",
       "      <th>Age</th>\n",
       "      <th>SibSp</th>\n",
       "      <th>Parch</th>\n",
       "      <th>Ticket</th>\n",
       "      <th>Fare</th>\n",
       "      <th>Cabin</th>\n",
       "      <th>Embarked</th>\n",
       "      <th>Agegroup</th>\n",
       "    </tr>\n",
       "  </thead>\n",
       "  <tbody>\n",
       "    <tr>\n",
       "      <th>0</th>\n",
       "      <td>1</td>\n",
       "      <td>0</td>\n",
       "      <td>3</td>\n",
       "      <td>Braund, Mr. Owen Harris</td>\n",
       "      <td>male</td>\n",
       "      <td>22.0</td>\n",
       "      <td>1</td>\n",
       "      <td>0</td>\n",
       "      <td>A/5 21171</td>\n",
       "      <td>7.2500</td>\n",
       "      <td>NaN</td>\n",
       "      <td>S</td>\n",
       "      <td>2</td>\n",
       "    </tr>\n",
       "    <tr>\n",
       "      <th>1</th>\n",
       "      <td>2</td>\n",
       "      <td>1</td>\n",
       "      <td>1</td>\n",
       "      <td>Cumings, Mrs. John Bradley (Florence Briggs Th...</td>\n",
       "      <td>female</td>\n",
       "      <td>38.0</td>\n",
       "      <td>1</td>\n",
       "      <td>0</td>\n",
       "      <td>PC 17599</td>\n",
       "      <td>71.2833</td>\n",
       "      <td>C85</td>\n",
       "      <td>C</td>\n",
       "      <td>3</td>\n",
       "    </tr>\n",
       "    <tr>\n",
       "      <th>2</th>\n",
       "      <td>3</td>\n",
       "      <td>1</td>\n",
       "      <td>3</td>\n",
       "      <td>Heikkinen, Miss. Laina</td>\n",
       "      <td>female</td>\n",
       "      <td>26.0</td>\n",
       "      <td>0</td>\n",
       "      <td>0</td>\n",
       "      <td>STON/O2. 3101282</td>\n",
       "      <td>7.9250</td>\n",
       "      <td>NaN</td>\n",
       "      <td>S</td>\n",
       "      <td>2</td>\n",
       "    </tr>\n",
       "    <tr>\n",
       "      <th>3</th>\n",
       "      <td>4</td>\n",
       "      <td>1</td>\n",
       "      <td>1</td>\n",
       "      <td>Futrelle, Mrs. Jacques Heath (Lily May Peel)</td>\n",
       "      <td>female</td>\n",
       "      <td>35.0</td>\n",
       "      <td>1</td>\n",
       "      <td>0</td>\n",
       "      <td>113803</td>\n",
       "      <td>53.1000</td>\n",
       "      <td>C123</td>\n",
       "      <td>S</td>\n",
       "      <td>3</td>\n",
       "    </tr>\n",
       "    <tr>\n",
       "      <th>4</th>\n",
       "      <td>5</td>\n",
       "      <td>0</td>\n",
       "      <td>3</td>\n",
       "      <td>Allen, Mr. William Henry</td>\n",
       "      <td>male</td>\n",
       "      <td>35.0</td>\n",
       "      <td>0</td>\n",
       "      <td>0</td>\n",
       "      <td>373450</td>\n",
       "      <td>8.0500</td>\n",
       "      <td>NaN</td>\n",
       "      <td>S</td>\n",
       "      <td>3</td>\n",
       "    </tr>\n",
       "  </tbody>\n",
       "</table>\n",
       "</div>"
      ],
      "text/plain": [
       "   PassengerId  Survived  Pclass  \\\n",
       "0            1         0       3   \n",
       "1            2         1       1   \n",
       "2            3         1       3   \n",
       "3            4         1       1   \n",
       "4            5         0       3   \n",
       "\n",
       "                                                Name     Sex   Age  SibSp  \\\n",
       "0                            Braund, Mr. Owen Harris    male  22.0      1   \n",
       "1  Cumings, Mrs. John Bradley (Florence Briggs Th...  female  38.0      1   \n",
       "2                             Heikkinen, Miss. Laina  female  26.0      0   \n",
       "3       Futrelle, Mrs. Jacques Heath (Lily May Peel)  female  35.0      1   \n",
       "4                           Allen, Mr. William Henry    male  35.0      0   \n",
       "\n",
       "   Parch            Ticket     Fare Cabin Embarked  Agegroup  \n",
       "0      0         A/5 21171   7.2500   NaN        S         2  \n",
       "1      0          PC 17599  71.2833   C85        C         3  \n",
       "2      0  STON/O2. 3101282   7.9250   NaN        S         2  \n",
       "3      0            113803  53.1000  C123        S         3  \n",
       "4      0            373450   8.0500   NaN        S         3  "
      ]
     },
     "execution_count": 42,
     "metadata": {},
     "output_type": "execute_result"
    }
   ],
   "source": [
    "valid_age_df.head()"
   ]
  },
  {
   "cell_type": "code",
   "execution_count": 43,
   "metadata": {},
   "outputs": [
    {
     "data": {
      "text/html": [
       "<div>\n",
       "<style scoped>\n",
       "    .dataframe tbody tr th:only-of-type {\n",
       "        vertical-align: middle;\n",
       "    }\n",
       "\n",
       "    .dataframe tbody tr th {\n",
       "        vertical-align: top;\n",
       "    }\n",
       "\n",
       "    .dataframe thead th {\n",
       "        text-align: right;\n",
       "    }\n",
       "</style>\n",
       "<table border=\"1\" class=\"dataframe\">\n",
       "  <thead>\n",
       "    <tr style=\"text-align: right;\">\n",
       "      <th></th>\n",
       "      <th>count</th>\n",
       "      <th>mean</th>\n",
       "      <th>std</th>\n",
       "      <th>min</th>\n",
       "      <th>25%</th>\n",
       "      <th>50%</th>\n",
       "      <th>75%</th>\n",
       "      <th>max</th>\n",
       "    </tr>\n",
       "    <tr>\n",
       "      <th>Agegroup</th>\n",
       "      <th></th>\n",
       "      <th></th>\n",
       "      <th></th>\n",
       "      <th></th>\n",
       "      <th></th>\n",
       "      <th></th>\n",
       "      <th></th>\n",
       "      <th></th>\n",
       "    </tr>\n",
       "  </thead>\n",
       "  <tbody>\n",
       "    <tr>\n",
       "      <th>0</th>\n",
       "      <td>64.0</td>\n",
       "      <td>0.593750</td>\n",
       "      <td>0.495015</td>\n",
       "      <td>0.0</td>\n",
       "      <td>0.0</td>\n",
       "      <td>1.0</td>\n",
       "      <td>1.0</td>\n",
       "      <td>1.0</td>\n",
       "    </tr>\n",
       "    <tr>\n",
       "      <th>1</th>\n",
       "      <td>115.0</td>\n",
       "      <td>0.382609</td>\n",
       "      <td>0.488151</td>\n",
       "      <td>0.0</td>\n",
       "      <td>0.0</td>\n",
       "      <td>0.0</td>\n",
       "      <td>1.0</td>\n",
       "      <td>1.0</td>\n",
       "    </tr>\n",
       "    <tr>\n",
       "      <th>2</th>\n",
       "      <td>230.0</td>\n",
       "      <td>0.365217</td>\n",
       "      <td>0.482541</td>\n",
       "      <td>0.0</td>\n",
       "      <td>0.0</td>\n",
       "      <td>0.0</td>\n",
       "      <td>1.0</td>\n",
       "      <td>1.0</td>\n",
       "    </tr>\n",
       "    <tr>\n",
       "      <th>3</th>\n",
       "      <td>155.0</td>\n",
       "      <td>0.445161</td>\n",
       "      <td>0.498595</td>\n",
       "      <td>0.0</td>\n",
       "      <td>0.0</td>\n",
       "      <td>0.0</td>\n",
       "      <td>1.0</td>\n",
       "      <td>1.0</td>\n",
       "    </tr>\n",
       "    <tr>\n",
       "      <th>4</th>\n",
       "      <td>86.0</td>\n",
       "      <td>0.383721</td>\n",
       "      <td>0.489143</td>\n",
       "      <td>0.0</td>\n",
       "      <td>0.0</td>\n",
       "      <td>0.0</td>\n",
       "      <td>1.0</td>\n",
       "      <td>1.0</td>\n",
       "    </tr>\n",
       "    <tr>\n",
       "      <th>5</th>\n",
       "      <td>42.0</td>\n",
       "      <td>0.404762</td>\n",
       "      <td>0.496796</td>\n",
       "      <td>0.0</td>\n",
       "      <td>0.0</td>\n",
       "      <td>0.0</td>\n",
       "      <td>1.0</td>\n",
       "      <td>1.0</td>\n",
       "    </tr>\n",
       "    <tr>\n",
       "      <th>6</th>\n",
       "      <td>17.0</td>\n",
       "      <td>0.235294</td>\n",
       "      <td>0.437237</td>\n",
       "      <td>0.0</td>\n",
       "      <td>0.0</td>\n",
       "      <td>0.0</td>\n",
       "      <td>0.0</td>\n",
       "      <td>1.0</td>\n",
       "    </tr>\n",
       "    <tr>\n",
       "      <th>7</th>\n",
       "      <td>5.0</td>\n",
       "      <td>0.200000</td>\n",
       "      <td>0.447214</td>\n",
       "      <td>0.0</td>\n",
       "      <td>0.0</td>\n",
       "      <td>0.0</td>\n",
       "      <td>0.0</td>\n",
       "      <td>1.0</td>\n",
       "    </tr>\n",
       "  </tbody>\n",
       "</table>\n",
       "</div>"
      ],
      "text/plain": [
       "          count      mean       std  min  25%  50%  75%  max\n",
       "Agegroup                                                    \n",
       "0          64.0  0.593750  0.495015  0.0  0.0  1.0  1.0  1.0\n",
       "1         115.0  0.382609  0.488151  0.0  0.0  0.0  1.0  1.0\n",
       "2         230.0  0.365217  0.482541  0.0  0.0  0.0  1.0  1.0\n",
       "3         155.0  0.445161  0.498595  0.0  0.0  0.0  1.0  1.0\n",
       "4          86.0  0.383721  0.489143  0.0  0.0  0.0  1.0  1.0\n",
       "5          42.0  0.404762  0.496796  0.0  0.0  0.0  1.0  1.0\n",
       "6          17.0  0.235294  0.437237  0.0  0.0  0.0  0.0  1.0\n",
       "7           5.0  0.200000  0.447214  0.0  0.0  0.0  0.0  1.0"
      ]
     },
     "execution_count": 43,
     "metadata": {},
     "output_type": "execute_result"
    }
   ],
   "source": [
    "valid_age_df.groupby('Agegroup')['Survived'].describe()"
   ]
  },
  {
   "cell_type": "code",
   "execution_count": 44,
   "metadata": {},
   "outputs": [
    {
     "data": {
      "image/png": "[encoded data removed]",
      "text/plain": [
       "<matplotlib.figure.Figure at 0xaa490f0>"
      ]
     },
     "metadata": {},
     "output_type": "display_data"
    }
   ],
   "source": [
    "survived_group = valid_age_df.groupby('Agegroup')['Survived']\n",
    "age_mean = survived_group.mean()\n",
    "plt.bar(age_mean.index,age_mean.values*100, tick_label=['<10','10-20','20-30','30-40','40-50','50-60','60-70','70-80'])\n",
    "plt.xlabel('Age(years old)')\n",
    "plt.ylabel('Survival(%)')\n",
    "plt.title('Fig.3 Age - Survival Relation')\n",
    "plt.show()"
   ]
  },
  {
   "cell_type": "code",
   "execution_count": 45,
   "metadata": {},
   "outputs": [
    {
     "name": "stdout",
     "output_type": "stream",
     "text": [
      "各样本与总体均数比较\n",
      "H0: 样本n的生存率与总体生存率相同\n",
      "H1: 样本n的生存率与总体生存率不同\n",
      "α=0.05，单尾t检验\n",
      "==============================\n",
      "10岁以下:  Ttest_1sampResult(statistic=3.0316269074489375, pvalue=0.0035278697359956961)\n",
      "10 ~ 20岁:  Ttest_1sampResult(statistic=-0.51743424867834753, pvalue=0.60585563429174139)\n",
      "20 ~ 30岁:  Ttest_1sampResult(statistic=-1.2868595896229751, pvalue=0.19944252093645054)\n",
      "30 ~ 40岁:  Ttest_1sampResult(statistic=0.97380009743201446, pvalue=0.33168291549268702)\n",
      "40 ~ 50岁:  Ttest_1sampResult(statistic=-0.42546668930831599, pvalue=0.67157178922433469)\n",
      "50 ~ 60岁:  Ttest_1sampResult(statistic=-0.018270420460130162, pvalue=0.98551174843507838)\n",
      "60 ~ 70岁:  Ttest_1sampResult(statistic=-1.6112719985589989, pvalue=0.12666898151774331)\n",
      "70 ~ 80岁:  Ttest_1sampResult(statistic=-1.0308123249299719, pvalue=0.36087539994202772)\n"
     ]
    }
   ],
   "source": [
    "# 验证10岁以下和60岁以上乘员的平均生存率与总体生存率是否相同\n",
    "# 年龄是连续变量，应用t检验\n",
    "from scipy.stats import ttest_1samp\n",
    "\n",
    "G0= valid_age_df[valid_age_df['Agegroup']==0]['Survived']   # 10岁以下\n",
    "G1 = valid_age_df[valid_age_df['Agegroup']==1]['Survived']   # 10 ~ 20岁\n",
    "G2 = valid_age_df[valid_age_df['Agegroup']==2]['Survived']   # 20 ~ 30岁\n",
    "G3 = valid_age_df[valid_age_df['Agegroup']==3]['Survived']   # 30 ~ 40岁\n",
    "G4 = valid_age_df[valid_age_df['Agegroup']==4]['Survived']   # 40 ~ 50岁\n",
    "G5 = valid_age_df[valid_age_df['Agegroup']==5]['Survived']   # 50 ~ 60岁\n",
    "G6 = valid_age_df[valid_age_df['Agegroup']==6]['Survived']   # 60 ~ 70岁\n",
    "G7 = valid_age_df[valid_age_df['Agegroup']==7]['Survived']   # 70 ~ 80岁\n",
    "\n",
    "print '各样本与总体均数比较' \n",
    "print 'H0: 样本n的生存率与总体生存率相同'\n",
    "print 'H1: 样本n的生存率与总体生存率不同'\n",
    "print 'α=0.05，单尾t检验'\n",
    "print '='*30\n",
    "print '10岁以下: ', ttest_1samp(G0, valid_age_df['Survived'].mean())\n",
    "print '10 ~ 20岁: ', ttest_1samp(G1, valid_age_df['Survived'].mean())\n",
    "print '20 ~ 30岁: ', ttest_1samp(G2, valid_age_df['Survived'].mean())\n",
    "print '30 ~ 40岁: ', ttest_1samp(G3, valid_age_df['Survived'].mean())\n",
    "print '40 ~ 50岁: ', ttest_1samp(G4, valid_age_df['Survived'].mean())\n",
    "print '50 ~ 60岁: ', ttest_1samp(G5, valid_age_df['Survived'].mean())\n",
    "print '60 ~ 70岁: ', ttest_1samp(G6, valid_age_df['Survived'].mean())\n",
    "print '70 ~ 80岁: ', ttest_1samp(G7, valid_age_df['Survived'].mean())"
   ]
  },
  {
   "cell_type": "markdown",
   "metadata": {},
   "source": [
    "**结论4.2.2**\n",
    "- 从图3大致推测10岁以下、60~70岁和70~80岁3个年龄段生存率与其他年龄段生存率差异较明显。10岁以下儿童的生存率较高。\n",
    "- 从t检验结果可得出结论：10岁以下乘员的生存率高于总体生存率，其他年龄段生存率与总体生存率相同"
   ]
  },
  {
   "cell_type": "markdown",
   "metadata": {},
   "source": [
    "#### 4.2.3 性别（Sex）"
   ]
  },
  {
   "cell_type": "code",
   "execution_count": 46,
   "metadata": {},
   "outputs": [
    {
     "data": {
      "text/html": [
       "<div>\n",
       "<style scoped>\n",
       "    .dataframe tbody tr th:only-of-type {\n",
       "        vertical-align: middle;\n",
       "    }\n",
       "\n",
       "    .dataframe tbody tr th {\n",
       "        vertical-align: top;\n",
       "    }\n",
       "\n",
       "    .dataframe thead th {\n",
       "        text-align: right;\n",
       "    }\n",
       "</style>\n",
       "<table border=\"1\" class=\"dataframe\">\n",
       "  <thead>\n",
       "    <tr style=\"text-align: right;\">\n",
       "      <th></th>\n",
       "      <th>count</th>\n",
       "      <th>mean</th>\n",
       "      <th>std</th>\n",
       "      <th>min</th>\n",
       "      <th>25%</th>\n",
       "      <th>50%</th>\n",
       "      <th>75%</th>\n",
       "      <th>max</th>\n",
       "    </tr>\n",
       "    <tr>\n",
       "      <th>Sex</th>\n",
       "      <th></th>\n",
       "      <th></th>\n",
       "      <th></th>\n",
       "      <th></th>\n",
       "      <th></th>\n",
       "      <th></th>\n",
       "      <th></th>\n",
       "      <th></th>\n",
       "    </tr>\n",
       "  </thead>\n",
       "  <tbody>\n",
       "    <tr>\n",
       "      <th>female</th>\n",
       "      <td>314.0</td>\n",
       "      <td>0.742038</td>\n",
       "      <td>0.438211</td>\n",
       "      <td>0.0</td>\n",
       "      <td>0.0</td>\n",
       "      <td>1.0</td>\n",
       "      <td>1.0</td>\n",
       "      <td>1.0</td>\n",
       "    </tr>\n",
       "    <tr>\n",
       "      <th>male</th>\n",
       "      <td>577.0</td>\n",
       "      <td>0.188908</td>\n",
       "      <td>0.391775</td>\n",
       "      <td>0.0</td>\n",
       "      <td>0.0</td>\n",
       "      <td>0.0</td>\n",
       "      <td>0.0</td>\n",
       "      <td>1.0</td>\n",
       "    </tr>\n",
       "  </tbody>\n",
       "</table>\n",
       "</div>"
      ],
      "text/plain": [
       "        count      mean       std  min  25%  50%  75%  max\n",
       "Sex                                                       \n",
       "female  314.0  0.742038  0.438211  0.0  0.0  1.0  1.0  1.0\n",
       "male    577.0  0.188908  0.391775  0.0  0.0  0.0  0.0  1.0"
      ]
     },
     "execution_count": 46,
     "metadata": {},
     "output_type": "execute_result"
    }
   ],
   "source": [
    "# 不同性别乘员的生存率情况\n",
    "original_df.groupby('Sex')['Survived'].describe()"
   ]
  },
  {
   "cell_type": "code",
   "execution_count": 47,
   "metadata": {},
   "outputs": [
    {
     "data": {
      "image/png": "[encoded data removed]",
      "text/plain": [
       "<matplotlib.figure.Figure at 0xaa491b0>"
      ]
     },
     "metadata": {},
     "output_type": "display_data"
    }
   ],
   "source": [
    "# 不同性别生存率比较\n",
    "survived_group = original_df.groupby('Sex')['Survived']\n",
    "sex_mean = survived_group.mean()\n",
    "plt.bar(sex_mean.index, sex_mean.values*100, tick_label=sex_mean.index)\n",
    "plt.xlabel('Sex')\n",
    "plt.ylabel('Survival(%)')\n",
    "plt.title('Fig.4 Sex - Survival Relation')\n",
    "plt.show()"
   ]
  },
  {
   "cell_type": "code",
   "execution_count": 48,
   "metadata": {},
   "outputs": [
    {
     "name": "stdout",
     "output_type": "stream",
     "text": [
      "观察生存人数与预期生存人数比较\n",
      "H0: 观察生存人数与预期生存人数不相符\n",
      "H1: 观察生存人数与预期生存人数相符\n",
      "α=0.05，卡方检验\n",
      "==============================\n",
      "实际生存人数： [233 109]\n",
      "预期生存人数： [ 120.52525253  221.47474747]\n",
      "卡方检验： Power_divergenceResult(statistic=162.08166685161615, pvalue=3.970516389658672e-37)\n"
     ]
    }
   ],
   "source": [
    "# Sex为离散变量，用卡方检验，取α=0.05\n",
    "from scipy.stats import chisquare\n",
    "\n",
    "print '观察生存人数与预期生存人数比较' \n",
    "print 'H0: 观察生存人数与预期生存人数不相符'\n",
    "print 'H1: 观察生存人数与预期生存人数相符'\n",
    "print 'α=0.05，卡方检验'\n",
    "print '='*30\n",
    "sex_sum = survived_group.sum()\n",
    "sex_count = survived_group.count()\n",
    "f_obs = sex_sum.values\n",
    "f_exp = (sex_count * original_df['Survived'].mean()).values\n",
    "print '实际生存人数：', f_obs\n",
    "print '预期生存人数：', f_exp\n",
    "print '卡方检验：', chisquare(f_obs, f_exp)    "
   ]
  },
  {
   "cell_type": "markdown",
   "metadata": {},
   "source": [
    "**结论4.2.3**\n",
    "- 因为$ P = 3.971*10^{-37} $，故按 $α=0.05$ 水平，拒绝 $ H_1 $，接受 $ H_0 $，即不同性别乘员的生存人数与预期（按总体生存率计算）生存人数不相符，也就是性别与乘员的生存率有关。\n",
    "- 女性生存率较男性高。"
   ]
  },
  {
   "cell_type": "markdown",
   "metadata": {},
   "source": [
    "#### 4.2.4 有亲属同船的（SibSp, Parch）"
   ]
  },
  {
   "cell_type": "code",
   "execution_count": 49,
   "metadata": {},
   "outputs": [
    {
     "data": {
      "text/html": [
       "<div>\n",
       "<style scoped>\n",
       "    .dataframe tbody tr th:only-of-type {\n",
       "        vertical-align: middle;\n",
       "    }\n",
       "\n",
       "    .dataframe tbody tr th {\n",
       "        vertical-align: top;\n",
       "    }\n",
       "\n",
       "    .dataframe thead th {\n",
       "        text-align: right;\n",
       "    }\n",
       "</style>\n",
       "<table border=\"1\" class=\"dataframe\">\n",
       "  <thead>\n",
       "    <tr style=\"text-align: right;\">\n",
       "      <th></th>\n",
       "      <th>count</th>\n",
       "      <th>mean</th>\n",
       "      <th>std</th>\n",
       "      <th>min</th>\n",
       "      <th>25%</th>\n",
       "      <th>50%</th>\n",
       "      <th>75%</th>\n",
       "      <th>max</th>\n",
       "    </tr>\n",
       "    <tr>\n",
       "      <th>Relatives</th>\n",
       "      <th></th>\n",
       "      <th></th>\n",
       "      <th></th>\n",
       "      <th></th>\n",
       "      <th></th>\n",
       "      <th></th>\n",
       "      <th></th>\n",
       "      <th></th>\n",
       "    </tr>\n",
       "  </thead>\n",
       "  <tbody>\n",
       "    <tr>\n",
       "      <th>0</th>\n",
       "      <td>537.0</td>\n",
       "      <td>0.303538</td>\n",
       "      <td>0.460214</td>\n",
       "      <td>0.0</td>\n",
       "      <td>0.0</td>\n",
       "      <td>0.0</td>\n",
       "      <td>1.0</td>\n",
       "      <td>1.0</td>\n",
       "    </tr>\n",
       "    <tr>\n",
       "      <th>1</th>\n",
       "      <td>161.0</td>\n",
       "      <td>0.552795</td>\n",
       "      <td>0.498756</td>\n",
       "      <td>0.0</td>\n",
       "      <td>0.0</td>\n",
       "      <td>1.0</td>\n",
       "      <td>1.0</td>\n",
       "      <td>1.0</td>\n",
       "    </tr>\n",
       "    <tr>\n",
       "      <th>2</th>\n",
       "      <td>102.0</td>\n",
       "      <td>0.578431</td>\n",
       "      <td>0.496249</td>\n",
       "      <td>0.0</td>\n",
       "      <td>0.0</td>\n",
       "      <td>1.0</td>\n",
       "      <td>1.0</td>\n",
       "      <td>1.0</td>\n",
       "    </tr>\n",
       "    <tr>\n",
       "      <th>3</th>\n",
       "      <td>29.0</td>\n",
       "      <td>0.724138</td>\n",
       "      <td>0.454859</td>\n",
       "      <td>0.0</td>\n",
       "      <td>0.0</td>\n",
       "      <td>1.0</td>\n",
       "      <td>1.0</td>\n",
       "      <td>1.0</td>\n",
       "    </tr>\n",
       "    <tr>\n",
       "      <th>4</th>\n",
       "      <td>15.0</td>\n",
       "      <td>0.200000</td>\n",
       "      <td>0.414039</td>\n",
       "      <td>0.0</td>\n",
       "      <td>0.0</td>\n",
       "      <td>0.0</td>\n",
       "      <td>0.0</td>\n",
       "      <td>1.0</td>\n",
       "    </tr>\n",
       "    <tr>\n",
       "      <th>5</th>\n",
       "      <td>22.0</td>\n",
       "      <td>0.136364</td>\n",
       "      <td>0.351250</td>\n",
       "      <td>0.0</td>\n",
       "      <td>0.0</td>\n",
       "      <td>0.0</td>\n",
       "      <td>0.0</td>\n",
       "      <td>1.0</td>\n",
       "    </tr>\n",
       "    <tr>\n",
       "      <th>6</th>\n",
       "      <td>12.0</td>\n",
       "      <td>0.333333</td>\n",
       "      <td>0.492366</td>\n",
       "      <td>0.0</td>\n",
       "      <td>0.0</td>\n",
       "      <td>0.0</td>\n",
       "      <td>1.0</td>\n",
       "      <td>1.0</td>\n",
       "    </tr>\n",
       "    <tr>\n",
       "      <th>7</th>\n",
       "      <td>6.0</td>\n",
       "      <td>0.000000</td>\n",
       "      <td>0.000000</td>\n",
       "      <td>0.0</td>\n",
       "      <td>0.0</td>\n",
       "      <td>0.0</td>\n",
       "      <td>0.0</td>\n",
       "      <td>0.0</td>\n",
       "    </tr>\n",
       "    <tr>\n",
       "      <th>10</th>\n",
       "      <td>7.0</td>\n",
       "      <td>0.000000</td>\n",
       "      <td>0.000000</td>\n",
       "      <td>0.0</td>\n",
       "      <td>0.0</td>\n",
       "      <td>0.0</td>\n",
       "      <td>0.0</td>\n",
       "      <td>0.0</td>\n",
       "    </tr>\n",
       "  </tbody>\n",
       "</table>\n",
       "</div>"
      ],
      "text/plain": [
       "           count      mean       std  min  25%  50%  75%  max\n",
       "Relatives                                                    \n",
       "0          537.0  0.303538  0.460214  0.0  0.0  0.0  1.0  1.0\n",
       "1          161.0  0.552795  0.498756  0.0  0.0  1.0  1.0  1.0\n",
       "2          102.0  0.578431  0.496249  0.0  0.0  1.0  1.0  1.0\n",
       "3           29.0  0.724138  0.454859  0.0  0.0  1.0  1.0  1.0\n",
       "4           15.0  0.200000  0.414039  0.0  0.0  0.0  0.0  1.0\n",
       "5           22.0  0.136364  0.351250  0.0  0.0  0.0  0.0  1.0\n",
       "6           12.0  0.333333  0.492366  0.0  0.0  0.0  1.0  1.0\n",
       "7            6.0  0.000000  0.000000  0.0  0.0  0.0  0.0  0.0\n",
       "10           7.0  0.000000  0.000000  0.0  0.0  0.0  0.0  0.0"
      ]
     },
     "execution_count": 49,
     "metadata": {},
     "output_type": "execute_result"
    }
   ],
   "source": [
    "# 合并同船亲属：\n",
    "original_df['Relatives'] = original_df['SibSp'] + original_df['Parch']\n",
    "# original_df[original_df['Relatives']>5]\n",
    "original_df.groupby('Relatives')['Survived'].describe()"
   ]
  },
  {
   "cell_type": "code",
   "execution_count": 50,
   "metadata": {},
   "outputs": [
    {
     "data": {
      "image/png": "[encoded data removed]",
      "text/plain": [
       "<matplotlib.figure.Figure at 0xa80f150>"
      ]
     },
     "metadata": {},
     "output_type": "display_data"
    }
   ],
   "source": [
    "# 亲属数量分布\n",
    "survived_group = original_df.groupby('Relatives')['Survived']\n",
    "relatives_count = survived_group.count()\n",
    "plt.bar(relatives_count.index, relatives_count.values)\n",
    "plt.xlabel('Relatives')\n",
    "plt.ylabel('Frequency')\n",
    "plt.title('Fig.5 Relatives Distribution')\n",
    "plt.show()"
   ]
  },
  {
   "cell_type": "code",
   "execution_count": 51,
   "metadata": {},
   "outputs": [
    {
     "data": {
      "image/png": "[encoded data removed]",
      "text/plain": [
       "<matplotlib.figure.Figure at 0xaa75df0>"
      ]
     },
     "metadata": {},
     "output_type": "display_data"
    }
   ],
   "source": [
    "# 亲属同船生存率比较\n",
    "survived_group = original_df.groupby('Relatives')['Survived']\n",
    "relatives_mean = survived_group.mean()\n",
    "plt.bar(relatives_mean.index, relatives_mean.values*100, tick_label=relatives_mean.index)\n",
    "plt.xlabel('Relatives')\n",
    "plt.ylabel('Survival(%)')\n",
    "plt.title('Fig.6 Relatives - Survival Relation')\n",
    "plt.show()"
   ]
  },
  {
   "cell_type": "code",
   "execution_count": 52,
   "metadata": {},
   "outputs": [
    {
     "name": "stdout",
     "output_type": "stream",
     "text": [
      "观察生存人数与预期生存人数比较\n",
      "H0: 观察生存人数与预期生存人数不相符\n",
      "H1: 观察生存人数与预期生存人数相符\n",
      "α=0.05，卡方检验\n",
      "==============================\n",
      "实际生存人数： [163  89  59  21   3   3   4   0   0]\n",
      "预期生存人数： [ 206.12121212   61.7979798    39.15151515   11.13131313    5.75757576\n",
      "    8.44444444    4.60606061    2.3030303     2.68686869]\n",
      "卡方检验： Power_divergenceResult(statistic=49.707183027350283, pvalue=4.6518816331336911e-08)\n"
     ]
    }
   ],
   "source": [
    "print '观察生存人数与预期生存人数比较' \n",
    "print 'H0: 观察生存人数与预期生存人数不相符'\n",
    "print 'H1: 观察生存人数与预期生存人数相符'\n",
    "print 'α=0.05，卡方检验'\n",
    "print '='*30\n",
    "relatives_sum = survived_group.sum()\n",
    "relatives_count = survived_group.count()\n",
    "f_obs = relatives_sum.values\n",
    "f_exp = (relatives_count * original_df['Survived'].mean()).values\n",
    "print '实际生存人数：', f_obs\n",
    "print '预期生存人数：', f_exp\n",
    "print '卡方检验：', chisquare(f_obs, f_exp)    "
   ]
  },
  {
   "cell_type": "markdown",
   "metadata": {},
   "source": [
    "**结论4.2.4**\n",
    "- 从图6看，有1-3名亲属同船者生存率较高。\n",
    "- 因为$ P = 4.652*10^{-8} $，故按 $α=0.05$ 水平，拒绝 $ H_1 $，接受 $ H_0 $，即有不同数量亲属同船的乘员的生存人数与预期（按总体生存率计算）生存人数不相符，也就是同船亲属数量与乘员的生存率有关。"
   ]
  },
  {
   "cell_type": "markdown",
   "metadata": {},
   "source": [
    "#### 4.2.5 登船港口（Embarked）"
   ]
  },
  {
   "cell_type": "code",
   "execution_count": 53,
   "metadata": {},
   "outputs": [
    {
     "data": {
      "text/html": [
       "<div>\n",
       "<style scoped>\n",
       "    .dataframe tbody tr th:only-of-type {\n",
       "        vertical-align: middle;\n",
       "    }\n",
       "\n",
       "    .dataframe tbody tr th {\n",
       "        vertical-align: top;\n",
       "    }\n",
       "\n",
       "    .dataframe thead th {\n",
       "        text-align: right;\n",
       "    }\n",
       "</style>\n",
       "<table border=\"1\" class=\"dataframe\">\n",
       "  <thead>\n",
       "    <tr style=\"text-align: right;\">\n",
       "      <th></th>\n",
       "      <th>count</th>\n",
       "      <th>mean</th>\n",
       "      <th>std</th>\n",
       "      <th>min</th>\n",
       "      <th>25%</th>\n",
       "      <th>50%</th>\n",
       "      <th>75%</th>\n",
       "      <th>max</th>\n",
       "    </tr>\n",
       "    <tr>\n",
       "      <th>Embarked</th>\n",
       "      <th></th>\n",
       "      <th></th>\n",
       "      <th></th>\n",
       "      <th></th>\n",
       "      <th></th>\n",
       "      <th></th>\n",
       "      <th></th>\n",
       "      <th></th>\n",
       "    </tr>\n",
       "  </thead>\n",
       "  <tbody>\n",
       "    <tr>\n",
       "      <th>C</th>\n",
       "      <td>168.0</td>\n",
       "      <td>0.553571</td>\n",
       "      <td>0.498608</td>\n",
       "      <td>0.0</td>\n",
       "      <td>0.0</td>\n",
       "      <td>1.0</td>\n",
       "      <td>1.0</td>\n",
       "      <td>1.0</td>\n",
       "    </tr>\n",
       "    <tr>\n",
       "      <th>Q</th>\n",
       "      <td>77.0</td>\n",
       "      <td>0.389610</td>\n",
       "      <td>0.490860</td>\n",
       "      <td>0.0</td>\n",
       "      <td>0.0</td>\n",
       "      <td>0.0</td>\n",
       "      <td>1.0</td>\n",
       "      <td>1.0</td>\n",
       "    </tr>\n",
       "    <tr>\n",
       "      <th>S</th>\n",
       "      <td>644.0</td>\n",
       "      <td>0.336957</td>\n",
       "      <td>0.473037</td>\n",
       "      <td>0.0</td>\n",
       "      <td>0.0</td>\n",
       "      <td>0.0</td>\n",
       "      <td>1.0</td>\n",
       "      <td>1.0</td>\n",
       "    </tr>\n",
       "  </tbody>\n",
       "</table>\n",
       "</div>"
      ],
      "text/plain": [
       "          count      mean       std  min  25%  50%  75%  max\n",
       "Embarked                                                    \n",
       "C         168.0  0.553571  0.498608  0.0  0.0  1.0  1.0  1.0\n",
       "Q          77.0  0.389610  0.490860  0.0  0.0  0.0  1.0  1.0\n",
       "S         644.0  0.336957  0.473037  0.0  0.0  0.0  1.0  1.0"
      ]
     },
     "execution_count": 53,
     "metadata": {},
     "output_type": "execute_result"
    }
   ],
   "source": [
    "# 不同港口登船乘员的生存率情况\n",
    "valid_harbour_df.groupby('Embarked')['Survived'].describe()"
   ]
  },
  {
   "cell_type": "code",
   "execution_count": 54,
   "metadata": {},
   "outputs": [
    {
     "data": {
      "image/png": "[encoded data removed]",
      "text/plain": [
       "<matplotlib.figure.Figure at 0xaa75e70>"
      ]
     },
     "metadata": {},
     "output_type": "display_data"
    }
   ],
   "source": [
    "# 不同港口登船者生存率比较\n",
    "survived_group = valid_harbour_df.groupby('Embarked')['Survived']\n",
    "harbour_mean = survived_group.mean()\n",
    "plt.bar(harbour_mean.index, harbour_mean.values*100, tick_label=['Cherbourg', 'Queenstown', 'Southampton'])\n",
    "plt.xlabel('Embarked')\n",
    "plt.ylabel('Survival(%)')\n",
    "plt.title('Fig.7 Embarked - Survival Relation')\n",
    "plt.show()"
   ]
  },
  {
   "cell_type": "code",
   "execution_count": 56,
   "metadata": {},
   "outputs": [
    {
     "name": "stdout",
     "output_type": "stream",
     "text": [
      "观察生存人数与预期生存人数比较\n",
      "H0: 观察生存人数与预期生存人数不相符\n",
      "H1: 观察生存人数与预期生存人数相符\n",
      "α=0.05，卡方检验\n",
      "==============================\n",
      "实际生存人数： [ 93  30 217]\n",
      "预期生存人数： [  64.2519685   29.4488189  246.2992126]\n",
      "卡方检验： Power_divergenceResult(statistic=16.358316379911653, pvalue=0.00028043791624590681)\n"
     ]
    }
   ],
   "source": [
    "# Sex为离散变量，用卡方检验，取α=0.05\n",
    "from scipy.stats import chisquare\n",
    "\n",
    "print '观察生存人数与预期生存人数比较' \n",
    "print 'H0: 观察生存人数与预期生存人数不相符'\n",
    "print 'H1: 观察生存人数与预期生存人数相符'\n",
    "print 'α=0.05，卡方检验'\n",
    "print '='*30\n",
    "harbour_sum = survived_group.sum()\n",
    "harbour_count = survived_group.count()\n",
    "f_obs = harbour_sum.values\n",
    "f_exp = (harbour_count * valid_harbour_df['Survived'].mean()).values\n",
    "print '实际生存人数：', f_obs\n",
    "print '预期生存人数：', f_exp\n",
    "print '卡方检验：', chisquare(f_obs, f_exp)    "
   ]
  },
  {
   "cell_type": "markdown",
   "metadata": {},
   "source": [
    "**结论4.2.5**\n",
    "- 图7显示从Cherbourg登船的人生存率较高。\n",
    "- 因为$ P = 2.804*10^{-4} $，故按 $α=0.05$ 水平，拒绝 $ H_1 $，接受 $ H_0 $，即不同港口登船的生存人数与预期（按总体生存率计算）生存人数不相符，也就是登船港口与乘员的生存率有关。"
   ]
  },
  {
   "cell_type": "markdown",
   "metadata": {},
   "source": [
    "## 4.3 调查问题2：有哪些因素与社会地位/舱位（Pclass）相关?\n",
    "### 4.3.1 年龄\n",
    "性别\n",
    "有亲属同船\n",
    "登船港口"
   ]
  },
  {
   "cell_type": "code",
   "execution_count": 76,
   "metadata": {},
   "outputs": [
    {
     "data": {
      "image/png": "[encoded data removed]",
      "text/plain": [
       "<matplotlib.figure.Figure at 0xba857f0>"
      ]
     },
     "metadata": {},
     "output_type": "display_data"
    }
   ],
   "source": [
    "plt.scatter(valid_age_df['Age'], valid_age_df['Pclass'])\n",
    "plt.show()"
   ]
  },
  {
   "cell_type": "code",
   "execution_count": 87,
   "metadata": {},
   "outputs": [
    {
     "data": {
      "image/png": "[encoded data removed]",
      "text/plain": [
       "<matplotlib.figure.Figure at 0xa942730>"
      ]
     },
     "metadata": {},
     "output_type": "display_data"
    },
    {
     "name": "stdout",
     "output_type": "stream",
     "text": [
      "总体描述: \n",
      "count    714.000000\n",
      "mean      29.699118\n",
      "std       14.526497\n",
      "min        0.420000\n",
      "25%       20.125000\n",
      "50%       28.000000\n",
      "75%       38.000000\n",
      "max       80.000000\n",
      "Name: Age, dtype: float64\n",
      "============================== \n",
      "\n"
     ]
    },
    {
     "data": {
      "image/png": "[encoded data removed]",
      "text/plain": [
       "<matplotlib.figure.Figure at 0xac0be10>"
      ]
     },
     "metadata": {},
     "output_type": "display_data"
    },
    {
     "name": "stdout",
     "output_type": "stream",
     "text": [
      "Pclass = 1 样本描述：\n",
      "count    186.000000\n",
      "mean      38.233441\n",
      "std       14.802856\n",
      "min        0.920000\n",
      "25%       27.000000\n",
      "50%       37.000000\n",
      "75%       49.000000\n",
      "max       80.000000\n",
      "Name: Age, dtype: float64 \n",
      "\n",
      "样本均数与总体均数比较，α=0.05，双侧t检验：\n",
      "Ttest_1sampResult(statistic=7.8628510238850859, pvalue=3.0141820896821583e-13)\n",
      "============================== \n",
      "\n"
     ]
    },
    {
     "data": {
      "image/png": "[encoded data removed]",
      "text/plain": [
       "<matplotlib.figure.Figure at 0x32c5210>"
      ]
     },
     "metadata": {},
     "output_type": "display_data"
    },
    {
     "name": "stdout",
     "output_type": "stream",
     "text": [
      "Pclass = 2 样本描述：\n",
      "count    173.000000\n",
      "mean      29.877630\n",
      "std       14.001077\n",
      "min        0.670000\n",
      "25%       23.000000\n",
      "50%       29.000000\n",
      "75%       36.000000\n",
      "max       70.000000\n",
      "Name: Age, dtype: float64 \n",
      "\n",
      "样本均数与总体均数比较，α=0.05，双侧t检验：\n",
      "Ttest_1sampResult(statistic=0.16769882834613745, pvalue=0.86701723129530395)\n",
      "============================== \n",
      "\n"
     ]
    },
    {
     "data": {
      "image/png": "[encoded data removed]",
      "text/plain": [
       "<matplotlib.figure.Figure at 0xb77ffb0>"
      ]
     },
     "metadata": {},
     "output_type": "display_data"
    },
    {
     "name": "stdout",
     "output_type": "stream",
     "text": [
      "Pclass = 3 样本描述：\n",
      "count    355.000000\n",
      "mean      25.140620\n",
      "std       12.495398\n",
      "min        0.420000\n",
      "25%       18.000000\n",
      "50%       24.000000\n",
      "75%       32.000000\n",
      "max       74.000000\n",
      "Name: Age, dtype: float64 \n",
      "\n",
      "样本均数与总体均数比较，α=0.05，双侧t检验：\n",
      "Ttest_1sampResult(statistic=-6.8736250374869634, pvalue=2.8358846134185293e-11)\n",
      "============================== \n",
      "\n"
     ]
    }
   ],
   "source": [
    "def show_factor_distribution(df, factor, pclass, total_mean=None):\n",
    "    plt.hist(df[factor])\n",
    "    plt.xlabel(factor)\n",
    "    plt.ylabel('Frequency')\n",
    "    plt.title('{} distribution (Pclass = {})'.format(factor, pclass))\n",
    "    plt.show()\n",
    "    if not total_mean:\n",
    "        print '总体描述: '\n",
    "        print df[factor].describe()\n",
    "    else:\n",
    "        print 'Pclass = {} 样本描述：'.format(pclass)\n",
    "        print df[factor].describe(),'\\n'\n",
    "        print '样本均数与总体均数比较，α=0.05，双侧t检验：\\n',ttest_1samp(df[factor], total_mean)\n",
    "    print '='*30,'\\n'\n",
    "    \n",
    "#print '总体描述','*'*30\n",
    "show_factor_distribution(valid_age_df,'Age',[1,2,3])\n",
    "for i in sorted(valid_age_df['Pclass'].unique()):\n",
    "    show_factor_distribution(valid_age_df[valid_age_df['Pclass']==i],'Age',i,valid_age_df['Age'].mean())"
   ]
  },
  {
   "cell_type": "markdown",
   "metadata": {},
   "source": [
    "**结论4.3.1**\n",
    "- 一等舱（Pclass = 1）和三等舱（Pclass = 3）乘员的年龄均数与总体年龄均数不同，但无法说明"
   ]
  },
  {
   "cell_type": "code",
   "execution_count": 90,
   "metadata": {},
   "outputs": [
    {
     "data": {
      "image/png": "[encoded data removed]",
      "text/plain": [
       "<matplotlib.figure.Figure at 0xbfaf150>"
      ]
     },
     "metadata": {},
     "output_type": "display_data"
    },
    {
     "name": "stdout",
     "output_type": "stream",
     "text": [
      "总体描述: \n",
      "count    891.000000\n",
      "mean       0.904602\n",
      "std        1.613459\n",
      "min        0.000000\n",
      "25%        0.000000\n",
      "50%        0.000000\n",
      "75%        1.000000\n",
      "max       10.000000\n",
      "Name: Relatives, dtype: float64\n",
      "============================== \n",
      "\n"
     ]
    },
    {
     "data": {
      "image/png": "[encoded data removed]",
      "text/plain": [
       "<matplotlib.figure.Figure at 0xbf7fb30>"
      ]
     },
     "metadata": {},
     "output_type": "display_data"
    },
    {
     "name": "stdout",
     "output_type": "stream",
     "text": [
      "Pclass = 1 样本描述：\n",
      "count    216.000000\n",
      "mean       0.773148\n",
      "std        1.038524\n",
      "min        0.000000\n",
      "25%        0.000000\n",
      "50%        0.000000\n",
      "75%        1.000000\n",
      "max        5.000000\n",
      "Name: Relatives, dtype: float64 \n",
      "\n",
      "样本均数与总体均数比较，α=0.05，双侧t检验：\n",
      "Ttest_1sampResult(statistic=-1.8602973650952084, pvalue=0.064209042296076338)\n",
      "============================== \n",
      "\n"
     ]
    },
    {
     "data": {
      "image/png": "[encoded data removed]",
      "text/plain": [
       "<matplotlib.figure.Figure at 0xb932bb0>"
      ]
     },
     "metadata": {},
     "output_type": "display_data"
    },
    {
     "name": "stdout",
     "output_type": "stream",
     "text": [
      "Pclass = 2 样本描述：\n",
      "count    184.000000\n",
      "mean       0.782609\n",
      "std        1.054017\n",
      "min        0.000000\n",
      "25%        0.000000\n",
      "50%        0.000000\n",
      "75%        1.250000\n",
      "max        5.000000\n",
      "Name: Relatives, dtype: float64 \n",
      "\n",
      "样本均数与总体均数比较，α=0.05，双侧t检验：\n",
      "Ttest_1sampResult(statistic=-1.5699853205527927, pvalue=0.11814595722120597)\n",
      "============================== \n",
      "\n"
     ]
    },
    {
     "data": {
      "image/png": "[encoded data removed]",
      "text/plain": [
       "<matplotlib.figure.Figure at 0xb923c50>"
      ]
     },
     "metadata": {},
     "output_type": "display_data"
    },
    {
     "name": "stdout",
     "output_type": "stream",
     "text": [
      "Pclass = 3 样本描述：\n",
      "count    491.000000\n",
      "mean       1.008147\n",
      "std        1.953525\n",
      "min        0.000000\n",
      "25%        0.000000\n",
      "50%        0.000000\n",
      "75%        1.000000\n",
      "max       10.000000\n",
      "Name: Relatives, dtype: float64 \n",
      "\n",
      "样本均数与总体均数比较，α=0.05，双侧t检验：\n",
      "Ttest_1sampResult(statistic=1.1744950358391355, pvalue=0.24076726566657813)\n",
      "============================== \n",
      "\n"
     ]
    }
   ],
   "source": [
    "show_factor_distribution(original_df,'Relatives',[1,2,3])\n",
    "for i in sorted(original_df['Pclass'].unique()):\n",
    "    show_factor_distribution(original_df[original_df['Pclass']==i],'Relatives',i,original_df['Relatives'].mean())"
   ]
  }
 ],
 "metadata": {
  "kernelspec": {
   "display_name": "Python 2",
   "language": "python",
   "name": "python2"
  },
  "language_info": {
   "codemirror_mode": {
    "name": "ipython",
    "version": 2
   },
   "file_extension": ".py",
   "mimetype": "text/x-python",
   "name": "python",
   "nbconvert_exporter": "python",
   "pygments_lexer": "ipython2",
   "version": "2.7.13"
  }
 },
 "nbformat": 4,
 "nbformat_minor": 2
}
