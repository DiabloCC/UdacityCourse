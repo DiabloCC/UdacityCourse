{
 "cells": [
  {
   "cell_type": "markdown",
   "metadata": {},
   "source": [
    "在开始之前，使用 iPython 笔记本时有几点需要注意一下：\n",
    "\n",
    "- 如果代码单元格被运行之后，在单元格的左侧方框中会有数字出现。\n",
    "- 当你启动一个新的笔记本会话时，请确保运行所有单元格（从第1个到你上次离开的单元格）。即使笔记本中依然可以看到上次运行所得到的输出，你重新运行的笔记本内核却处于一个完全新的状态，所以你需要重载数据和运行代码。\n",
    "- 上一条注意事项特别重要。当你的答案和课程中的练习不一致时，请试着重载数据并一个一个运行代码单元格，以确保你所操作的变量和数据和练习中的一致。\n",
    "\n",
    "\n",
    "## 从 CSV 加载数据"
   ]
  },
  {
   "cell_type": "code",
   "execution_count": 36,
   "metadata": {},
   "outputs": [
    {
     "data": {
      "text/plain": [
       "{u'account_key': u'448',\n",
       " u'cancel_date': u'2015-01-14',\n",
       " u'days_to_cancel': u'65',\n",
       " u'is_canceled': u'True',\n",
       " u'is_udacity': u'True',\n",
       " u'join_date': u'2014-11-10',\n",
       " u'status': u'canceled'}"
      ]
     },
     "execution_count": 36,
     "metadata": {},
     "output_type": "execute_result"
    }
   ],
   "source": [
    "import unicodecsv\n",
    "\n",
    "## 长代码版本 (该版本与短代码版本功能一致)\n",
    "\n",
    "# enrollments = []\n",
    "# f = open('enrollments.csv', 'rb')\n",
    "# reader = unicodecsv.DictReader(f)\n",
    "# for row in reader:\n",
    "#     enrollments.append(row)\n",
    "# f.close()\n",
    "\n",
    "with open('enrollments.csv', 'rb') as f:\n",
    "    reader = unicodecsv.DictReader(f)\n",
    "    enrollments = list(reader)\n",
    "enrollments[0]"
   ]
  },
  {
   "cell_type": "code",
   "execution_count": 37,
   "metadata": {},
   "outputs": [
    {
     "name": "stdout",
     "output_type": "stream",
     "text": [
      "{u'lessons_completed': u'0.0', u'num_courses_visited': u'1.0', u'total_minutes_visited': u'11.6793745', u'projects_completed': u'0.0', u'acct': u'0', u'utc_date': u'2015-01-09'}\n",
      "{u'lesson_key': u'3176718735', u'processing_state': u'EVALUATED', u'account_key': u'256', u'assigned_rating': u'UNGRADED', u'completion_date': u'2015-01-16', u'creation_date': u'2015-01-14'}\n"
     ]
    }
   ],
   "source": [
    "#####################################\n",
    "#                 1                 #\n",
    "#####################################\n",
    "\n",
    "## 从 daily_engagement.csv 和 project_submissions.csv 载入数据并存\n",
    "## 储至下面的变量中，然后检查每张表的第1行。\n",
    "\n",
    "def read_csv(filename, mode=None):\n",
    "    if not mode:\n",
    "        mode = 'rb'\n",
    "    with open(filename, mode) as f:\n",
    "        reader = unicodecsv.DictReader(f)\n",
    "        return list(reader)\n",
    "\n",
    "daily_engagement = read_csv('./daily-engagement.csv')\n",
    "project_submissions = read_csv('project-submissions.csv')\n",
    "print daily_engagement[0]\n",
    "print project_submissions[0]"
   ]
  },
  {
   "cell_type": "markdown",
   "metadata": {},
   "source": [
    "## 修正数据类型"
   ]
  },
  {
   "cell_type": "code",
   "execution_count": 38,
   "metadata": {},
   "outputs": [
    {
     "data": {
      "text/plain": [
       "{u'account_key': u'448',\n",
       " u'cancel_date': datetime.datetime(2015, 1, 14, 0, 0),\n",
       " u'days_to_cancel': 65,\n",
       " u'is_canceled': True,\n",
       " u'is_udacity': True,\n",
       " u'join_date': datetime.datetime(2014, 11, 10, 0, 0),\n",
       " u'status': u'canceled'}"
      ]
     },
     "execution_count": 38,
     "metadata": {},
     "output_type": "execute_result"
    }
   ],
   "source": [
    "from datetime import datetime as dt\n",
    "\n",
    "# 将字符串格式的时间转为 Python datetime 类型的时间。\n",
    "# 如果没有时间字符串传入，返回 None\n",
    "\n",
    "def parse_date(date):\n",
    "    if date == '':\n",
    "        return None\n",
    "    else:\n",
    "        return dt.strptime(date, '%Y-%m-%d')\n",
    "    \n",
    "# 将可能是空字符串或字符串类型的数据转为 整型 或 None。\n",
    "\n",
    "def parse_maybe_int(i):\n",
    "    if i == '':\n",
    "        return None\n",
    "    else:\n",
    "        return int(i)\n",
    "\n",
    "# 清理 enrollments 表格中的数据类型\n",
    "\n",
    "for enrollment in enrollments:\n",
    "    enrollment['cancel_date'] = parse_date(enrollment['cancel_date'])\n",
    "    enrollment['days_to_cancel'] = parse_maybe_int(enrollment['days_to_cancel'])\n",
    "    enrollment['is_canceled'] = enrollment['is_canceled'] == 'True'\n",
    "    enrollment['is_udacity'] = enrollment['is_udacity'] == 'True'\n",
    "    enrollment['join_date'] = parse_date(enrollment['join_date'])\n",
    "    \n",
    "enrollments[0]"
   ]
  },
  {
   "cell_type": "code",
   "execution_count": 39,
   "metadata": {},
   "outputs": [
    {
     "data": {
      "text/plain": [
       "{u'acct': u'0',\n",
       " u'lessons_completed': 0,\n",
       " u'num_courses_visited': 1,\n",
       " u'projects_completed': 0,\n",
       " u'total_minutes_visited': 11.6793745,\n",
       " u'utc_date': datetime.datetime(2015, 1, 9, 0, 0)}"
      ]
     },
     "execution_count": 39,
     "metadata": {},
     "output_type": "execute_result"
    }
   ],
   "source": [
    "# 清理 engagement 的数据类型\n",
    "for engagement_record in daily_engagement:\n",
    "    engagement_record['lessons_completed'] = int(float(engagement_record['lessons_completed']))\n",
    "    engagement_record['num_courses_visited'] = int(float(engagement_record['num_courses_visited']))\n",
    "    engagement_record['projects_completed'] = int(float(engagement_record['projects_completed']))\n",
    "    engagement_record['total_minutes_visited'] = float(engagement_record['total_minutes_visited'])\n",
    "    engagement_record['utc_date'] = parse_date(engagement_record['utc_date'])\n",
    "    \n",
    "daily_engagement[0]"
   ]
  },
  {
   "cell_type": "code",
   "execution_count": 40,
   "metadata": {},
   "outputs": [
    {
     "data": {
      "text/plain": [
       "{u'account_key': u'256',\n",
       " u'assigned_rating': u'UNGRADED',\n",
       " u'completion_date': datetime.datetime(2015, 1, 16, 0, 0),\n",
       " u'creation_date': datetime.datetime(2015, 1, 14, 0, 0),\n",
       " u'lesson_key': u'3176718735',\n",
       " u'processing_state': u'EVALUATED'}"
      ]
     },
     "execution_count": 40,
     "metadata": {},
     "output_type": "execute_result"
    }
   ],
   "source": [
    "# 清理 submissions 的数据类型\n",
    "for submission in project_submissions:\n",
    "    submission['completion_date'] = parse_date(submission['completion_date'])\n",
    "    submission['creation_date'] = parse_date(submission['creation_date'])\n",
    "\n",
    "project_submissions[0]"
   ]
  },
  {
   "cell_type": "markdown",
   "metadata": {},
   "source": [
    "注意：当我们在运行上方的单元格时，我们已经改变了数据变量中的内容。如果你试着在同一个会话多次运行这些单元格时，可能会出错。\n",
    "\n",
    "## 探索数据"
   ]
  },
  {
   "cell_type": "code",
   "execution_count": 41,
   "metadata": {},
   "outputs": [
    {
     "name": "stdout",
     "output_type": "stream",
     "text": [
      "enrollments has 1640 rows and 1302 account keys.\n",
      "project_submissions has 3642 rows and 743 account keys.\n"
     ]
    }
   ],
   "source": [
    "#####################################\n",
    "#                 2                 #\n",
    "#####################################\n",
    "\n",
    "## 计算每张表中的总行数，和独立学生（拥有独立的 account keys）的数量\n",
    "def get_distinct_acct(rows):\n",
    "    keys = set()\n",
    "    for row in rows:\n",
    "        keys.add(row['account_key'])\n",
    "    return keys\n",
    "\n",
    "# print 'daily-engagement has %d rows and %d account keys.' % count_csv(daily-engagement)\n",
    "print 'enrollments has {} rows and {} account keys.'.format(len(enrollments),len(get_distinct_acct(enrollments)))\n",
    "print 'project_submissions has {} rows and {} account keys.'.format(len(project_submissions),len(get_distinct_acct(project_submissions)))\n",
    "# print 'daily_engagement has {} rows and {} account keys.'.format(len(daily_engagement),len(get_distinct_acct(daily_engagement)))\n",
    "\n"
   ]
  },
  {
   "cell_type": "markdown",
   "metadata": {},
   "source": [
    "## 数据中的问题"
   ]
  },
  {
   "cell_type": "code",
   "execution_count": 42,
   "metadata": {},
   "outputs": [
    {
     "name": "stdout",
     "output_type": "stream",
     "text": [
      "daily_engagement has 136240 rows and 1237 account keys.\n"
     ]
    }
   ],
   "source": [
    "#####################################\n",
    "#                 3                 #\n",
    "#####################################\n",
    "\n",
    "## 将 daily_engagement 表中的 \"acct\" 重命名为 ”account_key\"\n",
    "\n",
    "for engagement in daily_engagement:\n",
    "    engagement['account_key'] = engagement['acct']\n",
    "    engagement.pop('acct')\n",
    "    \n",
    "print 'daily_engagement has {} rows and {} account keys.'.format(len(daily_engagement),len(get_distinct_acct(daily_engagement)))"
   ]
  },
  {
   "cell_type": "markdown",
   "metadata": {},
   "source": [
    "\n",
    "## 缺失的互动（Engagement）记录"
   ]
  },
  {
   "cell_type": "code",
   "execution_count": 43,
   "metadata": {},
   "outputs": [
    {
     "name": "stdout",
     "output_type": "stream",
     "text": [
      "{u'status': u'canceled', u'is_udacity': False, u'is_canceled': True, u'join_date': datetime.datetime(2014, 11, 12, 0, 0), u'account_key': u'1219', u'cancel_date': datetime.datetime(2014, 11, 12, 0, 0), u'days_to_cancel': 0}\n"
     ]
    }
   ],
   "source": [
    "#####################################\n",
    "#                 4                 #\n",
    "#####################################\n",
    "\n",
    "## 找到任意一个 enrollments 中的学生，但不在 daily engagement 表中。\n",
    "## 打印出这条 enrollments 记录。\n",
    "\n",
    "engagement_keys = get_distinct_acct(daily_engagement)\n",
    "for enrollment in enrollments:\n",
    "    akey = enrollment['account_key']\n",
    "    if akey not in engagement_keys:\n",
    "        print enrollment\n",
    "        break"
   ]
  },
  {
   "cell_type": "markdown",
   "metadata": {},
   "source": [
    "## 检查更多的问题记录"
   ]
  },
  {
   "cell_type": "code",
   "execution_count": 44,
   "metadata": {},
   "outputs": [
    {
     "name": "stdout",
     "output_type": "stream",
     "text": [
      "{u'status': u'canceled', u'is_udacity': True, u'is_canceled': True, u'join_date': datetime.datetime(2015, 1, 10, 0, 0), u'account_key': u'1304', u'cancel_date': datetime.datetime(2015, 3, 10, 0, 0), u'days_to_cancel': 59} \n",
      "\n",
      "{u'status': u'canceled', u'is_udacity': True, u'is_canceled': True, u'join_date': datetime.datetime(2015, 3, 10, 0, 0), u'account_key': u'1304', u'cancel_date': datetime.datetime(2015, 6, 17, 0, 0), u'days_to_cancel': 99} \n",
      "\n",
      "{u'status': u'current', u'is_udacity': True, u'is_canceled': False, u'join_date': datetime.datetime(2015, 2, 25, 0, 0), u'account_key': u'1101', u'cancel_date': None, u'days_to_cancel': None} \n",
      "\n",
      "3\n"
     ]
    }
   ],
   "source": [
    "#####################################\n",
    "#                 5                 #\n",
    "#####################################\n",
    "\n",
    "## 计算无众不同的数据点条数（在 enrollments 中存在，但在 engagement 表中缺失）\n",
    "\n",
    "cnt = 0\n",
    "for enrollment in enrollments:\n",
    "    akey = enrollment['account_key']\n",
    "    if (akey not in engagement_keys) and \\\n",
    "        enrollment['join_date'] != enrollment['cancel_date']:\n",
    "        cnt += 1\n",
    "        print enrollment, '\\n'\n",
    "print cnt\n"
   ]
  },
  {
   "cell_type": "markdown",
   "metadata": {},
   "source": [
    "## 追踪剩余的问题"
   ]
  },
  {
   "cell_type": "code",
   "execution_count": 45,
   "metadata": {},
   "outputs": [
    {
     "data": {
      "text/plain": [
       "6"
      ]
     },
     "execution_count": 45,
     "metadata": {},
     "output_type": "execute_result"
    }
   ],
   "source": [
    "# 为所有 Udacity 测试帐号建立一组 set \n",
    "udacity_test_accounts = set()\n",
    "for enrollment in enrollments:\n",
    "    if enrollment['is_udacity']:\n",
    "        udacity_test_accounts.add(enrollment['account_key'])\n",
    "len(udacity_test_accounts)"
   ]
  },
  {
   "cell_type": "code",
   "execution_count": 46,
   "metadata": {
    "collapsed": true
   },
   "outputs": [],
   "source": [
    "# 通过 account_key 删除所有 Udacity 的测试帐号\n",
    "def remove_udacity_accounts(data):\n",
    "    non_udacity_data = []\n",
    "    for data_point in data:\n",
    "        if data_point['account_key'] not in udacity_test_accounts:\n",
    "            non_udacity_data.append(data_point)\n",
    "    return non_udacity_data"
   ]
  },
  {
   "cell_type": "code",
   "execution_count": 47,
   "metadata": {},
   "outputs": [
    {
     "name": "stdout",
     "output_type": "stream",
     "text": [
      "1622\n",
      "135656\n",
      "3634\n"
     ]
    }
   ],
   "source": [
    "# 从3张表中移除所有 Udacity 的测试帐号\n",
    "non_udacity_enrollments = remove_udacity_accounts(enrollments)\n",
    "non_udacity_engagement = remove_udacity_accounts(daily_engagement)\n",
    "non_udacity_submissions = remove_udacity_accounts(project_submissions)\n",
    "\n",
    "print len(non_udacity_enrollments)\n",
    "print len(non_udacity_engagement)\n",
    "print len(non_udacity_submissions)"
   ]
  },
  {
   "cell_type": "markdown",
   "metadata": {},
   "source": [
    "## 重新定义问题"
   ]
  },
  {
   "cell_type": "code",
   "execution_count": 48,
   "metadata": {},
   "outputs": [
    {
     "name": "stdout",
     "output_type": "stream",
     "text": [
      "995\n"
     ]
    }
   ],
   "source": [
    "#####################################\n",
    "#                 6                 #\n",
    "#####################################\n",
    "\n",
    "## 创建一个叫 paid_students 的字典，并在字典中存储所有还没有取消或者注册时间超过7天的学生。\n",
    "## 字典的键为帐号（account key），值为学生注册的时间。\n",
    "\n",
    "def get_paid_students(data):\n",
    "    students_dict = {}\n",
    "    for enrollment in data:\n",
    "        if (not enrollment['is_canceled']) or \\\n",
    "        (enrollment['days_to_cancel']>7):\n",
    "            if (enrollment['account_key'] not in students_dict or \\\n",
    "                enrollment['join_date'] > students_dict[enrollment['account_key']]):\n",
    "                students_dict[enrollment['account_key']] = enrollment['join_date']\n",
    "                \n",
    "    return students_dict\n",
    "\n",
    "paid_students = get_paid_students(non_udacity_enrollments)\n",
    "print len(paid_students)\n"
   ]
  },
  {
   "cell_type": "markdown",
   "metadata": {},
   "source": [
    "## 获取第1周的数据\n",
    "获取第1周的数据"
   ]
  },
  {
   "cell_type": "code",
   "execution_count": 49,
   "metadata": {
    "collapsed": true
   },
   "outputs": [],
   "source": [
    "# 基于学生的加入日期和特定一天的互动记录，若该互动记录发生在学生加入1周内，则反回 True\n",
    "\n",
    "def within_one_week(join_date, engagement_date):\n",
    "    time_delta = engagement_date - join_date\n",
    "    return time_delta.days < 7 and time_delta.days >= 0\n",
    "\n",
    "def remove_free_trial_cancels(data):\n",
    "    new_data = []\n",
    "    for data_point in data:\n",
    "        if data_point['account_key'] in paid_students:\n",
    "            new_data.append(data_point)\n",
    "    return new_data"
   ]
  },
  {
   "cell_type": "code",
   "execution_count": 50,
   "metadata": {},
   "outputs": [
    {
     "name": "stdout",
     "output_type": "stream",
     "text": [
      "1293\n",
      "134549\n",
      "3618\n"
     ]
    }
   ],
   "source": [
    "paid_enrollments = remove_free_trial_cancels(non_udacity_enrollments)\n",
    "paid_engagement = remove_free_trial_cancels(non_udacity_engagement)\n",
    "paid_submissions = remove_free_trial_cancels(non_udacity_submissions)\n",
    "\n",
    "print len(paid_enrollments)\n",
    "print len(paid_engagement)\n",
    "print len(paid_submissions)"
   ]
  },
  {
   "cell_type": "code",
   "execution_count": 51,
   "metadata": {
    "collapsed": true
   },
   "outputs": [],
   "source": [
    "for x in paid_engagement:\n",
    "    if x['num_courses_visited']>0 and x['total_minutes_visited']>0:\n",
    "        x['has_visited'] = 1\n",
    "    else:\n",
    "        x['has_visited'] = 0"
   ]
  },
  {
   "cell_type": "code",
   "execution_count": 52,
   "metadata": {},
   "outputs": [
    {
     "name": "stdout",
     "output_type": "stream",
     "text": [
      "6919\n"
     ]
    }
   ],
   "source": [
    "#####################################\n",
    "#                 7                 #\n",
    "#####################################\n",
    "\n",
    "## 创建一个 engagement 记录的列表，该列表只包括付费学生以及加入的前7天的学生的记录\n",
    "## 输入符合要求的行数\n",
    "\n",
    "paid_engagement_in_first_week = []\n",
    "\n",
    "for x in paid_engagement:\n",
    "    acct = x['account_key']\n",
    "    if within_one_week(paid_students[acct], x['utc_date']):\n",
    "        paid_engagement_in_first_week.append(x)\n",
    "            \n",
    "print len(paid_engagement_in_first_week)\n",
    "\n",
    "            "
   ]
  },
  {
   "cell_type": "markdown",
   "metadata": {},
   "source": [
    "## Exploring Student Engagement"
   ]
  },
  {
   "cell_type": "code",
   "execution_count": 53,
   "metadata": {
    "collapsed": true
   },
   "outputs": [],
   "source": [
    "from collections import defaultdict\n",
    "\n",
    "# 创建基于 student 对 engagement 进行分组的字典，字典的键为帐号（account key），值为包含互动记录的列表\n",
    "\n",
    "engagement_by_account = defaultdict(list)\n",
    "for engagement_record in paid_engagement_in_first_week:\n",
    "    account_key = engagement_record['account_key']\n",
    "    engagement_by_account[account_key].append(engagement_record)"
   ]
  },
  {
   "cell_type": "code",
   "execution_count": 54,
   "metadata": {
    "collapsed": true
   },
   "outputs": [],
   "source": [
    "# 创建一个包含学生在第1周在教室所花总时间和字典。键为帐号（account key），值为数字（所花总时间）\n",
    "total_minutes_by_account = {}\n",
    "for account_key, engagement_for_student in engagement_by_account.items():\n",
    "    total_minutes = 0\n",
    "    for engagement_record in engagement_for_student:\n",
    "        total_minutes += engagement_record['total_minutes_visited']\n",
    "    total_minutes_by_account[account_key] = total_minutes"
   ]
  },
  {
   "cell_type": "code",
   "execution_count": 55,
   "metadata": {},
   "outputs": [
    {
     "name": "stdout",
     "output_type": "stream",
     "text": [
      "Mean: 306.708326753\n",
      "Standard deviation: 412.996933409\n",
      "Minimum: 0.0\n",
      "Maximum: 3564.7332645\n"
     ]
    }
   ],
   "source": [
    "import numpy as np\n",
    "\n",
    "# 汇总和描述关于教室所花时间的数据\n",
    "total_minutes = total_minutes_by_account.values()\n",
    "print 'Mean:', np.mean(total_minutes)\n",
    "print 'Standard deviation:', np.std(total_minutes)\n",
    "print 'Minimum:', np.min(total_minutes)\n",
    "print 'Maximum:', np.max(total_minutes)"
   ]
  },
  {
   "cell_type": "markdown",
   "metadata": {},
   "source": [
    "## 纠错现有的数据分析代码"
   ]
  },
  {
   "cell_type": "code",
   "execution_count": 56,
   "metadata": {},
   "outputs": [
    {
     "name": "stdout",
     "output_type": "stream",
     "text": [
      "{u'lessons_completed': 4, u'num_courses_visited': 4, 'has_visited': 1, u'total_minutes_visited': 850.519339666, u'projects_completed': 0, 'account_key': u'163', u'utc_date': datetime.datetime(2015, 7, 9, 0, 0)}\n",
      "{u'lessons_completed': 6, u'num_courses_visited': 6, 'has_visited': 1, u'total_minutes_visited': 872.633923334, u'projects_completed': 0, 'account_key': u'163', u'utc_date': datetime.datetime(2015, 7, 10, 0, 0)}\n",
      "{u'lessons_completed': 6, u'num_courses_visited': 2, 'has_visited': 1, u'total_minutes_visited': 777.018903666, u'projects_completed': 0, 'account_key': u'163', u'utc_date': datetime.datetime(2015, 7, 11, 0, 0)}\n",
      "{u'lessons_completed': 2, u'num_courses_visited': 1, 'has_visited': 1, u'total_minutes_visited': 294.568774, u'projects_completed': 0, 'account_key': u'163', u'utc_date': datetime.datetime(2015, 7, 12, 0, 0)}\n",
      "{u'lessons_completed': 1, u'num_courses_visited': 3, 'has_visited': 1, u'total_minutes_visited': 471.2139785, u'projects_completed': 0, 'account_key': u'163', u'utc_date': datetime.datetime(2015, 7, 13, 0, 0)}\n",
      "{u'lessons_completed': 1, u'num_courses_visited': 2, 'has_visited': 1, u'total_minutes_visited': 298.778345333, u'projects_completed': 0, 'account_key': u'163', u'utc_date': datetime.datetime(2015, 7, 14, 0, 0)}\n",
      "{u'lessons_completed': 0, u'num_courses_visited': 0, 'has_visited': 0, u'total_minutes_visited': 0.0, u'projects_completed': 0, 'account_key': u'163', u'utc_date': datetime.datetime(2015, 7, 15, 0, 0)}\n"
     ]
    }
   ],
   "source": [
    "#####################################\n",
    "#                 8                 #\n",
    "#####################################\n",
    "\n",
    "## 通过之前的方法检查是否有问题数据存在。\n",
    "## 定位至少一条异常数据，打印出来并检查。\n",
    "acct_max = max(total_minutes_by_account.items(), key=lambda pair: pair[1])\n",
    "#for x in total_minutes_by_account:\n",
    "#    if total_minutes_by_account[x] > 7*60*24:\n",
    "for i in engagement_by_account[acct_max[0]]:\n",
    "    print i\n",
    "#break\n",
    "        "
   ]
  },
  {
   "cell_type": "markdown",
   "metadata": {},
   "source": [
    "## 第1周完成的课程数（Lessons）"
   ]
  },
  {
   "cell_type": "code",
   "execution_count": 57,
   "metadata": {},
   "outputs": [
    {
     "name": "stdout",
     "output_type": "stream",
     "text": [
      "***** Total Minutes *****\n",
      "Values count: 995\n",
      "Values mean: 1.636\n",
      "Values standard deviation: 3.003\n",
      "Values min value: 0.000\n",
      "Values max value: 36.000\n",
      "--------------------\n"
     ]
    }
   ],
   "source": [
    "#####################################\n",
    "#                 9                 #\n",
    "#####################################\n",
    "\n",
    "## 修改之前的代码，找出第1周学生完成课程数的 平均值、标准差、最小值、最大值。尝试创建一个或更多的函数来复用之前的代码\n",
    "\n",
    "from collections import defaultdict\n",
    "import numpy as np\n",
    "\n",
    "def group_data(data, group_key):\n",
    "    groups = defaultdict(list)\n",
    "    for row in data:\n",
    "        groups[row[group_key]].append(row)\n",
    "    return groups\n",
    "               \n",
    "def sum_group_keyvalue(groups, key_field):\n",
    "    group_sum = {}\n",
    "    for key, rows in groups.items():\n",
    "        sum_value = 0 \n",
    "        for row in rows:\n",
    "            sum_value += row[key_field]\n",
    "        group_sum[key] = sum_value\n",
    "    return group_sum\n",
    "               \n",
    "def calculate_groups(dataname, value_list):\n",
    "    print '*'*5, dataname, '*'*5\n",
    "    print 'Values count: {}'.format(len(value_list))\n",
    "    print 'Values mean: %.3f'%(np.mean(value_list))\n",
    "    print 'Values standard deviation: %.3f'%(np.std(value_list))\n",
    "    print 'Values min value: %.3f'%(np.min(value_list))\n",
    "    print 'Values max value: %.3f'%(np.max(value_list))\n",
    "    print '-'*20\n",
    "               \n",
    "engagement_by_account = group_data(paid_engagement_in_first_week,'account_key')\n",
    "total_minutes_by_account = sum_group_keyvalue(engagement_by_account, 'lessons_completed')\n",
    "calculate_groups('Total Minutes',total_minutes_by_account.values())"
   ]
  },
  {
   "cell_type": "markdown",
   "metadata": {},
   "source": [
    "## 第1周的访问次数"
   ]
  },
  {
   "cell_type": "code",
   "execution_count": 58,
   "metadata": {},
   "outputs": [
    {
     "ename": "TypeError",
     "evalue": "calculate_groups() takes exactly 2 arguments (1 given)",
     "output_type": "error",
     "traceback": [
      "\u001b[1;31m---------------------------------------------------------------------------\u001b[0m",
      "\u001b[1;31mTypeError\u001b[0m                                 Traceback (most recent call last)",
      "\u001b[1;32m<ipython-input-58-6f4fca57ae66>\u001b[0m in \u001b[0;36m<module>\u001b[1;34m()\u001b[0m\n\u001b[0;32m      7\u001b[0m \u001b[0mvisited_by_account\u001b[0m \u001b[1;33m=\u001b[0m \u001b[0mgroup_data\u001b[0m\u001b[1;33m(\u001b[0m\u001b[0mpaid_engagement_in_first_week\u001b[0m\u001b[1;33m,\u001b[0m \u001b[1;34m'account_key'\u001b[0m\u001b[1;33m)\u001b[0m\u001b[1;33m\u001b[0m\u001b[0m\n\u001b[0;32m      8\u001b[0m \u001b[0mtotal_courses_visited_by_account\u001b[0m \u001b[1;33m=\u001b[0m \u001b[0msum_group_keyvalue\u001b[0m\u001b[1;33m(\u001b[0m\u001b[0mvisited_by_account\u001b[0m\u001b[1;33m,\u001b[0m \u001b[1;34m'has_visited'\u001b[0m\u001b[1;33m)\u001b[0m\u001b[1;33m\u001b[0m\u001b[0m\n\u001b[1;32m----> 9\u001b[1;33m \u001b[0mcalculate_groups\u001b[0m\u001b[1;33m(\u001b[0m\u001b[0mtotal_courses_visited_by_account\u001b[0m\u001b[1;33m.\u001b[0m\u001b[0mvalues\u001b[0m\u001b[1;33m(\u001b[0m\u001b[1;33m)\u001b[0m\u001b[1;33m)\u001b[0m\u001b[1;33m\u001b[0m\u001b[0m\n\u001b[0m",
      "\u001b[1;31mTypeError\u001b[0m: calculate_groups() takes exactly 2 arguments (1 given)"
     ]
    }
   ],
   "source": [
    "######################################\n",
    "#                 10                 #\n",
    "######################################\n",
    "\n",
    "## 找出第1周学生访问教室天数的平均值、标准差、最小值、最大值。\n",
    "\n",
    "visited_by_account = group_data(paid_engagement_in_first_week, 'account_key')\n",
    "total_courses_visited_by_account = sum_group_keyvalue(visited_by_account, 'has_visited')\n",
    "calculate_groups(total_courses_visited_by_account.values())\n"
   ]
  },
  {
   "cell_type": "markdown",
   "metadata": {},
   "source": [
    "## 区分项目通过的学生"
   ]
  },
  {
   "cell_type": "code",
   "execution_count": null,
   "metadata": {},
   "outputs": [],
   "source": [
    "######################################\n",
    "#                 11                 #\n",
    "######################################\n",
    "\n",
    "## 创建两个付费学生第1周的互动数据列表（engagement）。第1个包含通过项目的学生，第2个包含没通过项目的学生。\n",
    "\n",
    "subway_project_lesson_keys = ['746169184', '3176718735']\n",
    "\n",
    "passing_engagement = []\n",
    "non_passing_engagement = []\n",
    "\n",
    "passed_submission = set()\n",
    "\n",
    "for x in paid_submissions:\n",
    "    if x['lesson_key'] in subway_project_lesson_keys and \\\n",
    "        x['assigned_rating'] in ['PASSED','DISTINCTION']:\n",
    "            passed_submission.add(x['account_key'])\n",
    "\n",
    "print 'passed_submission count: ',len(passed_submission)            \n",
    "\n",
    "for x in paid_engagement_in_first_week:\n",
    "    if x['account_key'] in passed_submission:\n",
    "        passing_engagement.append(x)\n",
    "    else:\n",
    "        non_passing_engagement.append(x)\n",
    "        \n",
    "print 'passing_engagement count: ', len(passing_engagement)\n",
    "print 'non_passing_engagemnet count: ', len(non_passing_engagement)\n",
    "print 'total engagement in first week: ', len(paid_engagement_in_first_week)\n",
    "            "
   ]
  },
  {
   "cell_type": "markdown",
   "metadata": {},
   "source": [
    "## 对比两组学生数据"
   ]
  },
  {
   "cell_type": "code",
   "execution_count": 59,
   "metadata": {},
   "outputs": [
    {
     "name": "stdout",
     "output_type": "stream",
     "text": [
      "***** Total Minutes: Passing *****\n",
      "Values count: 647\n",
      "Values mean: 394.586\n",
      "Values standard deviation: 448.500\n",
      "Values min value: 0.000\n",
      "Values max value: 3564.733\n",
      "--------------------\n",
      "***** Total Minutes: Nonpassing *****\n",
      "Values count: 348\n",
      "Values mean: 143.326\n",
      "Values standard deviation: 269.539\n",
      "Values min value: 0.000\n",
      "Values max value: 1768.523\n",
      "--------------------\n",
      "\n",
      "\n",
      "***** Lessons Completed: Passing *****\n",
      "Values count: 647\n",
      "Values mean: 2.053\n",
      "Values standard deviation: 3.142\n",
      "Values min value: 0.000\n",
      "Values max value: 36.000\n",
      "--------------------\n",
      "***** Lessons Completed: Nonpassing *****\n",
      "Values count: 348\n",
      "Values mean: 0.862\n",
      "Values standard deviation: 2.549\n",
      "Values min value: 0.000\n",
      "Values max value: 27.000\n",
      "--------------------\n",
      "\n",
      "\n",
      "\n",
      "\n",
      "***** Projects Completed: Passing *****\n",
      "Values count: 647\n",
      "Values mean: 0.009\n",
      "Values standard deviation: 0.111\n",
      "Values min value: 0.000\n",
      "Values max value: 2.000\n",
      "--------------------\n",
      "***** Projects Completed: Nonpassing *****\n",
      "Values count: 348\n",
      "Values mean: 0.000\n",
      "Values standard deviation: 0.000\n",
      "Values min value: 0.000\n",
      "Values max value: 0.000\n",
      "--------------------\n",
      "\n",
      "\n",
      "***** Visit Days: Passing *****\n",
      "Values count: 647\n",
      "Values mean: 3.385\n",
      "Values standard deviation: 2.259\n",
      "Values min value: 0.000\n",
      "Values max value: 7.000\n",
      "--------------------\n",
      "***** Visit Days: Nonpassing *****\n",
      "Values count: 348\n",
      "Values mean: 1.905\n",
      "Values standard deviation: 1.906\n",
      "Values min value: 0.000\n",
      "Values max value: 7.000\n",
      "--------------------\n",
      "\n",
      "\n"
     ]
    }
   ],
   "source": [
    "######################################\n",
    "#                 12                 #\n",
    "######################################\n",
    "\n",
    "## 计算你所感兴趣的数据指标，并分析通过项目和没有通过项目的两组学生有何异同。\n",
    "## 你可以从我们之前使用过的数据指标开始（教室的访问时间、课程完成数、访问天数）。\n",
    "\n",
    "passing_engagement_by_account = group_data(passing_engagement, 'account_key')\n",
    "non_passing_engagement_by_account = group_data(non_passing_engagement, 'account_key')\n",
    "\n",
    "def compute_data(dataname, data, keyfield):\n",
    "    keyvalues = sum_group_keyvalue(data, keyfield)\n",
    "    calculate_groups(dataname, keyvalues.values())\n",
    "    \n",
    "compute_data('Total Minutes: Passing',passing_engagement_by_account, 'total_minutes_visited')\n",
    "compute_data('Total Minutes: Nonpassing',non_passing_engagement_by_account, 'total_minutes_visited')\n",
    "print '\\n'\n",
    "compute_data('Lessons Completed: Passing',passing_engagement_by_account, 'lessons_completed')\n",
    "compute_data('Lessons Completed: Nonpassing',non_passing_engagement_by_account, 'lessons_completed')\n",
    "print '\\n'\n",
    "print '\\n'\n",
    "compute_data('Projects Completed: Passing',passing_engagement_by_account, 'projects_completed')\n",
    "compute_data('Projects Completed: Nonpassing',non_passing_engagement_by_account, 'projects_completed')\n",
    "print '\\n'\n",
    "compute_data('Visit Days: Passing',passing_engagement_by_account, 'has_visited')\n",
    "compute_data('Visit Days: Nonpassing',non_passing_engagement_by_account, 'has_visited')\n",
    "print '\\n'\n",
    "\n"
   ]
  },
  {
   "cell_type": "markdown",
   "metadata": {},
   "source": [
    "## 制作直方图"
   ]
  },
  {
   "cell_type": "code",
   "execution_count": 77,
   "metadata": {},
   "outputs": [
    {
     "data": {
      "image/png": "[encoded data removed]",
      "text/plain": [
       "<matplotlib.figure.Figure at 0xbb672d0>"
      ]
     },
     "metadata": {},
     "output_type": "display_data"
    },
    {
     "data": {
      "image/png": "[encoded data removed]",
      "text/plain": [
       "<matplotlib.figure.Figure at 0x4212430>"
      ]
     },
     "metadata": {},
     "output_type": "display_data"
    },
    {
     "name": "stdout",
     "output_type": "stream",
     "text": [
      "****************************** \n",
      "\n"
     ]
    },
    {
     "data": {
      "image/png": "[encoded data removed]",
      "text/plain": [
       "<matplotlib.figure.Figure at 0x97d04b0>"
      ]
     },
     "metadata": {},
     "output_type": "display_data"
    },
    {
     "data": {
      "image/png": "[encoded data removed]",
      "text/plain": [
       "<matplotlib.figure.Figure at 0x97d0f10>"
      ]
     },
     "metadata": {},
     "output_type": "display_data"
    },
    {
     "name": "stdout",
     "output_type": "stream",
     "text": [
      "****************************** \n",
      "\n"
     ]
    },
    {
     "data": {
      "image/png": "[encoded data removed]",
      "text/plain": [
       "<matplotlib.figure.Figure at 0x3be1830>"
      ]
     },
     "metadata": {},
     "output_type": "display_data"
    },
    {
     "data": {
      "image/png": "[encoded data removed]",
      "text/plain": [
       "<matplotlib.figure.Figure at 0x4238630>"
      ]
     },
     "metadata": {},
     "output_type": "display_data"
    },
    {
     "name": "stdout",
     "output_type": "stream",
     "text": [
      "****************************** \n",
      "\n"
     ]
    },
    {
     "data": {
      "image/png": "[encoded data removed]",
      "text/plain": [
       "<matplotlib.figure.Figure at 0x472d270>"
      ]
     },
     "metadata": {},
     "output_type": "display_data"
    },
    {
     "data": {
      "image/png": "[encoded data removed]",
      "text/plain": [
       "<matplotlib.figure.Figure at 0x471b910>"
      ]
     },
     "metadata": {},
     "output_type": "display_data"
    },
    {
     "name": "stdout",
     "output_type": "stream",
     "text": [
      "****************************** \n",
      "\n"
     ]
    }
   ],
   "source": [
    "######################################\n",
    "#                 13                 #\n",
    "######################################\n",
    "\n",
    "## 针对通过项目和没有通过项目的两组学生，为我们之前研究的三个数据指标制作直方图。\n",
    "## 你也可以为其它你所检验的数据指标来制作直方图。\n",
    "\n",
    "%matplotlib inline\n",
    "import matplotlib.pyplot as plt\n",
    "\n",
    "\n",
    "plt.hist(sum_group_keyvalue(passing_engagement_by_account,'total_minutes_visited').values())\n",
    "plt.show()\n",
    "plt.hist(sum_group_keyvalue(non_passing_engagement_by_account,'total_minutes_visited').values())\n",
    "plt.show()\n",
    "print '*'*30,'\\n'\n",
    "plt.hist(sum_group_keyvalue(passing_engagement_by_account,'lessons_completed').values())\n",
    "plt.show()\n",
    "plt.hist(sum_group_keyvalue(non_passing_engagement_by_account,'lessons_completed').values())\n",
    "plt.show()\n",
    "print '*'*30,'\\n'\n",
    "plt.hist(sum_group_keyvalue(passing_engagement_by_account,'projects_completed').values())\n",
    "plt.show()\n",
    "plt.hist(sum_group_keyvalue(non_passing_engagement_by_account,'projects_completed').values())\n",
    "plt.show()\n",
    "print '*'*30,'\\n'\n",
    "plt.hist(sum_group_keyvalue(passing_engagement_by_account,'has_visited').values())\n",
    "plt.show()\n",
    "plt.hist(sum_group_keyvalue(non_passing_engagement_by_account,'has_visited').values())\n",
    "plt.show()\n",
    "print '*'*30,'\\n'"
   ]
  },
  {
   "cell_type": "markdown",
   "metadata": {},
   "source": [
    "## 改进图表及分享发现"
   ]
  },
  {
   "cell_type": "code",
   "execution_count": null,
   "metadata": {
    "collapsed": true
   },
   "outputs": [],
   "source": [
    "######################################\n",
    "#                 14                 #\n",
    "######################################\n",
    "\n",
    "## 至少改进一幅之前的可视化图表，尝试导入 seaborn 库使你的图表看起来更美观。\n",
    "## 加入轴标签及表头，并修改一个或多个 hist() 内的变量。"
   ]
  }
 ],
 "metadata": {
  "anaconda-cloud": {},
  "kernelspec": {
   "display_name": "Python 2",
   "language": "python",
   "name": "python2"
  },
  "language_info": {
   "codemirror_mode": {
    "name": "ipython",
    "version": 2
   },
   "file_extension": ".py",
   "mimetype": "text/x-python",
   "name": "python",
   "nbconvert_exporter": "python",
   "pygments_lexer": "ipython2",
   "version": "2.7.13"
  }
 },
 "nbformat": 4,
 "nbformat_minor": 1
}
